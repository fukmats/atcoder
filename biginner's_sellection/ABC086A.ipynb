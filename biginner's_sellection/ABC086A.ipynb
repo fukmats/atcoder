{
 "cells": [
  {
   "cell_type": "code",
   "execution_count": 2,
   "metadata": {},
   "outputs": [
    {
     "name": "stdout",
     "output_type": "stream",
     "text": [
      "1 2\n"
     ]
    }
   ],
   "source": [
    "a, b = map(lambda x: int(x), input().split())\n",
    "print(a,b)"
   ]
  },
  {
   "cell_type": "code",
   "execution_count": 8,
   "metadata": {},
   "outputs": [
    {
     "name": "stdout",
     "output_type": "stream",
     "text": [
      "Even\n"
     ]
    }
   ],
   "source": [
    "a, b = map(lambda x: int(x), input().split())\n",
    "ans = a*b\n",
    "if ans%2 == 1:\n",
    "    print(\"Odd\")\n",
    "else:\n",
    "    print('Even')"
   ]
  },
  {
   "cell_type": "code",
   "execution_count": 14,
   "metadata": {},
   "outputs": [
    {
     "name": "stdout",
     "output_type": "stream",
     "text": [
      "3\n"
     ]
    }
   ],
   "source": [
    "s = input()\n",
    "sum = 0\n",
    "for n in s:\n",
    "    sum += int(n)\n",
    "print(sum)\n"
   ]
  },
  {
   "cell_type": "code",
   "execution_count": 27,
   "metadata": {},
   "outputs": [
    {
     "ename": "KeyboardInterrupt",
     "evalue": "Interrupted by user",
     "output_type": "error",
     "traceback": [
      "\u001b[0;31m---------------------------------------------------------------------------\u001b[0m",
      "\u001b[0;31mKeyboardInterrupt\u001b[0m                         Traceback (most recent call last)",
      "\u001b[0;32m/var/folders/yy/5vn5bk_d7kq_wrl03_9g4rl00000gn/T/ipykernel_87333/3284803468.py\u001b[0m in \u001b[0;36m<module>\u001b[0;34m\u001b[0m\n\u001b[0;32m----> 1\u001b[0;31m \u001b[0mN\u001b[0m \u001b[0;34m=\u001b[0m \u001b[0minput\u001b[0m\u001b[0;34m(\u001b[0m\u001b[0;34m)\u001b[0m\u001b[0;34m\u001b[0m\u001b[0;34m\u001b[0m\u001b[0m\n\u001b[0m\u001b[1;32m      2\u001b[0m \u001b[0mA\u001b[0m \u001b[0;34m=\u001b[0m \u001b[0mlist\u001b[0m\u001b[0;34m(\u001b[0m\u001b[0mmap\u001b[0m\u001b[0;34m(\u001b[0m\u001b[0;32mlambda\u001b[0m \u001b[0mx\u001b[0m\u001b[0;34m:\u001b[0m \u001b[0mint\u001b[0m\u001b[0;34m(\u001b[0m\u001b[0mx\u001b[0m\u001b[0;34m)\u001b[0m\u001b[0;34m,\u001b[0m \u001b[0minput\u001b[0m\u001b[0;34m(\u001b[0m\u001b[0;34m)\u001b[0m\u001b[0;34m.\u001b[0m\u001b[0msplit\u001b[0m\u001b[0;34m(\u001b[0m\u001b[0;34m)\u001b[0m\u001b[0;34m)\u001b[0m\u001b[0;34m)\u001b[0m\u001b[0;34m\u001b[0m\u001b[0;34m\u001b[0m\u001b[0m\n\u001b[1;32m      3\u001b[0m \u001b[0mnum\u001b[0m \u001b[0;34m=\u001b[0m \u001b[0;36m0\u001b[0m\u001b[0;34m\u001b[0m\u001b[0;34m\u001b[0m\u001b[0m\n\u001b[1;32m      4\u001b[0m \u001b[0;32mwhile\u001b[0m \u001b[0;32mTrue\u001b[0m\u001b[0;34m:\u001b[0m\u001b[0;34m\u001b[0m\u001b[0;34m\u001b[0m\u001b[0m\n\u001b[1;32m      5\u001b[0m     \u001b[0mflag\u001b[0m \u001b[0;34m=\u001b[0m \u001b[0;32mTrue\u001b[0m\u001b[0;34m\u001b[0m\u001b[0;34m\u001b[0m\u001b[0m\n",
      "\u001b[0;32m~/miniforge3/lib/python3.9/site-packages/ipykernel/kernelbase.py\u001b[0m in \u001b[0;36mraw_input\u001b[0;34m(self, prompt)\u001b[0m\n\u001b[1;32m   1004\u001b[0m                 \u001b[0;34m\"raw_input was called, but this frontend does not support input requests.\"\u001b[0m\u001b[0;34m\u001b[0m\u001b[0;34m\u001b[0m\u001b[0m\n\u001b[1;32m   1005\u001b[0m             )\n\u001b[0;32m-> 1006\u001b[0;31m         return self._input_request(\n\u001b[0m\u001b[1;32m   1007\u001b[0m             \u001b[0mstr\u001b[0m\u001b[0;34m(\u001b[0m\u001b[0mprompt\u001b[0m\u001b[0;34m)\u001b[0m\u001b[0;34m,\u001b[0m\u001b[0;34m\u001b[0m\u001b[0;34m\u001b[0m\u001b[0m\n\u001b[1;32m   1008\u001b[0m             \u001b[0mself\u001b[0m\u001b[0;34m.\u001b[0m\u001b[0m_parent_ident\u001b[0m\u001b[0;34m[\u001b[0m\u001b[0;34m\"shell\"\u001b[0m\u001b[0;34m]\u001b[0m\u001b[0;34m,\u001b[0m\u001b[0;34m\u001b[0m\u001b[0;34m\u001b[0m\u001b[0m\n",
      "\u001b[0;32m~/miniforge3/lib/python3.9/site-packages/ipykernel/kernelbase.py\u001b[0m in \u001b[0;36m_input_request\u001b[0;34m(self, prompt, ident, parent, password)\u001b[0m\n\u001b[1;32m   1049\u001b[0m             \u001b[0;32mexcept\u001b[0m \u001b[0mKeyboardInterrupt\u001b[0m\u001b[0;34m:\u001b[0m\u001b[0;34m\u001b[0m\u001b[0;34m\u001b[0m\u001b[0m\n\u001b[1;32m   1050\u001b[0m                 \u001b[0;31m# re-raise KeyboardInterrupt, to truncate traceback\u001b[0m\u001b[0;34m\u001b[0m\u001b[0;34m\u001b[0m\u001b[0;34m\u001b[0m\u001b[0m\n\u001b[0;32m-> 1051\u001b[0;31m                 \u001b[0;32mraise\u001b[0m \u001b[0mKeyboardInterrupt\u001b[0m\u001b[0;34m(\u001b[0m\u001b[0;34m\"Interrupted by user\"\u001b[0m\u001b[0;34m)\u001b[0m \u001b[0;32mfrom\u001b[0m \u001b[0;32mNone\u001b[0m\u001b[0;34m\u001b[0m\u001b[0;34m\u001b[0m\u001b[0m\n\u001b[0m\u001b[1;32m   1052\u001b[0m             \u001b[0;32mexcept\u001b[0m \u001b[0mException\u001b[0m\u001b[0;34m:\u001b[0m\u001b[0;34m\u001b[0m\u001b[0;34m\u001b[0m\u001b[0m\n\u001b[1;32m   1053\u001b[0m                 \u001b[0mself\u001b[0m\u001b[0;34m.\u001b[0m\u001b[0mlog\u001b[0m\u001b[0;34m.\u001b[0m\u001b[0mwarning\u001b[0m\u001b[0;34m(\u001b[0m\u001b[0;34m\"Invalid Message:\"\u001b[0m\u001b[0;34m,\u001b[0m \u001b[0mexc_info\u001b[0m\u001b[0;34m=\u001b[0m\u001b[0;32mTrue\u001b[0m\u001b[0;34m)\u001b[0m\u001b[0;34m\u001b[0m\u001b[0;34m\u001b[0m\u001b[0m\n",
      "\u001b[0;31mKeyboardInterrupt\u001b[0m: Interrupted by user"
     ]
    }
   ],
   "source": [
    "N = input()\n",
    "A = list(map(lambda x: int(x), input().split()))\n",
    "num = 0\n",
    "while True:\n",
    "    flag = True\n",
    "    for a in A:\n",
    "        if a%2 != 0:\n",
    "            flag = False\n",
    "            # print(f'{flag=} {A=}')\n",
    "            break\n",
    "    if flag == False:\n",
    "        break\n",
    "    else:\n",
    "        for i in range(len(A)):\n",
    "            A[i] = A[i]/2\n",
    "    num += 1\n",
    "    # print(f'{flag=} {A=}')\n",
    "\n",
    "print(num)\n",
    "    \n",
    "\n",
    "        \n",
    "\n"
   ]
  },
  {
   "cell_type": "code",
   "execution_count": 33,
   "metadata": {},
   "outputs": [],
   "source": [
    "\n",
    "\n"
   ]
  },
  {
   "cell_type": "code",
   "execution_count": 41,
   "metadata": {},
   "outputs": [],
   "source": [
    "A, B, C, X = 3, 3, 3, 650"
   ]
  },
  {
   "cell_type": "code",
   "execution_count": 43,
   "metadata": {},
   "outputs": [
    {
     "name": "stdout",
     "output_type": "stream",
     "text": [
      "1 6 13\n"
     ]
    }
   ],
   "source": [
    "\n"
   ]
  },
  {
   "cell_type": "code",
   "execution_count": 51,
   "metadata": {},
   "outputs": [
    {
     "name": "stdout",
     "output_type": "stream",
     "text": [
      "1\n"
     ]
    }
   ],
   "source": [
    "A = int(input())\n",
    "B = int(input())\n",
    "C = int(input())\n",
    "X = int(input())\n",
    "\n",
    "# assert A+B+C <= 50\n",
    "# assert 0 <= A+B+C\n",
    "# assert A+B+C >= 1\n",
    "# assert 50 <= X <= 20000\n",
    "# assert X <= 20000\n",
    "# assert type(A) == type(B) == type(C) == int\n",
    "\n",
    "num = 0\n",
    "for a in range(A+1):\n",
    "    for b in range(B+1):\n",
    "        for c in range(C+1):\n",
    "            x = 500*a + 100*b + 50*c\n",
    "            if x == X:\n",
    "                num += 1\n",
    "# print(f'{A=} {B=} {C=} {X=}')\n",
    "print(num)"
   ]
  },
  {
   "cell_type": "code",
   "execution_count": 34,
   "metadata": {},
   "outputs": [
    {
     "data": {
      "text/plain": [
       "50005000"
      ]
     },
     "execution_count": 34,
     "metadata": {},
     "output_type": "execute_result"
    }
   ],
   "source": [
    "sum([i for i in range(10001)])"
   ]
  },
  {
   "cell_type": "code",
   "execution_count": 33,
   "metadata": {},
   "outputs": [
    {
     "data": {
      "text/plain": [
       "9999"
      ]
     },
     "execution_count": 33,
     "metadata": {},
     "output_type": "execute_result"
    }
   ],
   "source": [
    "for i in range(10001):\n",
    "    pass\n",
    "i"
   ]
  },
  {
   "cell_type": "code",
   "execution_count": 20,
   "metadata": {},
   "outputs": [
    {
     "name": "stdout",
     "output_type": "stream",
     "text": [
      "4950\n"
     ]
    }
   ],
   "source": [
    "N, A, B = map(lambda x: int(x), input().split())\n",
    "assert 1 <= N <= 10000\n",
    "assert 1 <= A <= B <= 36\n",
    "assert type(N) == int\n",
    "assert type(A) == int\n",
    "assert type(B) == int\n",
    "\n",
    "\n",
    "EXP = 4\n",
    "\n",
    "nums = []\n",
    "for n in range(1, N+1,1):\n",
    "    list_digit = []\n",
    "    n_ = n\n",
    "    for e in reversed(range(EXP+1)):\n",
    "        list_digit.append(n_ // 10**e)\n",
    "        n_ -= 10**e * (n // 10**e)\n",
    "        if n_ <0:\n",
    "            break\n",
    "    # print(list_digit)\n",
    "    if A <= sum(list_digit) <= B:\n",
    "        nums.append(n)\n",
    "print(sum(nums))\n"
   ]
  },
  {
   "cell_type": "code",
   "execution_count": 41,
   "metadata": {},
   "outputs": [],
   "source": [
    "N, A, B = 100,4,16\n",
    "# N, A, B = 10,1,2\n",
    "N,A,B = 10000,1,36"
   ]
  },
  {
   "cell_type": "code",
   "execution_count": 42,
   "metadata": {},
   "outputs": [
    {
     "name": "stdout",
     "output_type": "stream",
     "text": [
      "50005000\n"
     ]
    }
   ],
   "source": [
    "assert 1 <= N <= 10000\n",
    "assert 1 <= A <= B <= 36\n",
    "assert type(N) == int\n",
    "assert type(A) == int\n",
    "assert type(B) == int\n",
    "\n",
    "\n",
    "EXP = 4\n",
    "\n",
    "nums = []\n",
    "for n in range(1, N+1,1):\n",
    "    list_digit = []\n",
    "    n_ = n\n",
    "    for e in reversed(range(EXP+1)):\n",
    "        list_digit.append(n_ // 10**e)\n",
    "        n_ -= 10**e * (n // 10**e)\n",
    "        if n_ <0:\n",
    "            break\n",
    "    # print(list_digit)\n",
    "    if A <= sum(list_digit) <= B:\n",
    "        nums.append(n)\n",
    "print(sum(nums))"
   ]
  },
  {
   "cell_type": "code",
   "execution_count": null,
   "metadata": {},
   "outputs": [],
   "source": []
  },
  {
   "cell_type": "code",
   "execution_count": 44,
   "metadata": {},
   "outputs": [
    {
     "name": "stdout",
     "output_type": "stream",
     "text": [
      "50005000\n"
     ]
    }
   ],
   "source": [
    "N, A, B = map(lambda x: int(x), input().split())\n",
    "assert 1 <= N <= 10000\n",
    "assert 1 <= A <= B <= 36\n",
    "assert type(N) == int\n",
    "assert type(A) == int\n",
    "assert type(B) == int\n",
    "\n",
    "\n",
    "EXP = 4\n",
    "nums = []\n",
    "for n in range(1, N+1,1):\n",
    "    digits = []\n",
    "    s = str(n)\n",
    "    for i in range(len(s)):\n",
    "        digits.append(int(s[i]))\n",
    "    if A <= sum(digits) <= B:\n",
    "        nums.append(n)\n",
    "# print(nums)\n",
    "print(sum(nums))"
   ]
  },
  {
   "cell_type": "code",
   "execution_count": 63,
   "metadata": {},
   "outputs": [
    {
     "name": "stdout",
     "output_type": "stream",
     "text": [
      "21:01\n"
     ]
    }
   ],
   "source": [
    "K = int(input())\n",
    "h = K//60\n",
    "m = K%60\n",
    "# assert 60*h+m == K, f'{K=}, {h=}, {m=}'\n",
    "H = 21+h\n",
    "M = m\n",
    "if M < 10:\n",
    "    M = '0'+str(M)\n",
    "print(f'{H}:{M}')\n",
    "# assert int(H) < 24, K\n",
    "# assert int(M) < 60, K\n"
   ]
  },
  {
   "cell_type": "code",
   "execution_count": 45,
   "metadata": {},
   "outputs": [],
   "source": [
    "K = 10"
   ]
  },
  {
   "cell_type": "code",
   "execution_count": 49,
   "metadata": {},
   "outputs": [
    {
     "name": "stdout",
     "output_type": "stream",
     "text": [
      "21:10\n"
     ]
    }
   ],
   "source": [
    "h = K//60\n",
    "m = K%60\n",
    "assert h+m == K\n",
    "# H = (21 + h) // 24\n",
    "H = 21+h\n",
    "M = m\n",
    "print(f'{H}:{M}')\n"
   ]
  },
  {
   "cell_type": "code",
   "execution_count": 62,
   "metadata": {},
   "outputs": [
    {
     "name": "stdout",
     "output_type": "stream",
     "text": [
      "21:00\n",
      "21:01\n",
      "21:02\n",
      "21:03\n",
      "21:04\n",
      "21:05\n",
      "21:06\n",
      "21:07\n",
      "21:08\n",
      "21:09\n",
      "21:10\n",
      "21:11\n",
      "21:12\n",
      "21:13\n",
      "21:14\n",
      "21:15\n",
      "21:16\n",
      "21:17\n",
      "21:18\n",
      "21:19\n",
      "21:20\n",
      "21:21\n",
      "21:22\n",
      "21:23\n",
      "21:24\n",
      "21:25\n",
      "21:26\n",
      "21:27\n",
      "21:28\n",
      "21:29\n",
      "21:30\n",
      "21:31\n",
      "21:32\n",
      "21:33\n",
      "21:34\n",
      "21:35\n",
      "21:36\n",
      "21:37\n",
      "21:38\n",
      "21:39\n",
      "21:40\n",
      "21:41\n",
      "21:42\n",
      "21:43\n",
      "21:44\n",
      "21:45\n",
      "21:46\n",
      "21:47\n",
      "21:48\n",
      "21:49\n",
      "21:50\n",
      "21:51\n",
      "21:52\n",
      "21:53\n",
      "21:54\n",
      "21:55\n",
      "21:56\n",
      "21:57\n",
      "21:58\n",
      "21:59\n",
      "22:00\n",
      "22:01\n",
      "22:02\n",
      "22:03\n",
      "22:04\n",
      "22:05\n",
      "22:06\n",
      "22:07\n",
      "22:08\n",
      "22:09\n",
      "22:10\n",
      "22:11\n",
      "22:12\n",
      "22:13\n",
      "22:14\n",
      "22:15\n",
      "22:16\n",
      "22:17\n",
      "22:18\n",
      "22:19\n",
      "22:20\n",
      "22:21\n",
      "22:22\n",
      "22:23\n",
      "22:24\n",
      "22:25\n",
      "22:26\n",
      "22:27\n",
      "22:28\n",
      "22:29\n",
      "22:30\n",
      "22:31\n",
      "22:32\n",
      "22:33\n",
      "22:34\n",
      "22:35\n",
      "22:36\n",
      "22:37\n",
      "22:38\n",
      "22:39\n",
      "22:40\n"
     ]
    }
   ],
   "source": [
    "for K in range(101):\n",
    "    h = K//60\n",
    "    m = K%60\n",
    "    assert 60*h+m == K, f'{K=}, {h=}, {m=}'\n",
    "    # H = (21 + h) // 24\n",
    "    H = 21+h\n",
    "    M = m\n",
    "    if M < 10:\n",
    "        M = '0'+str(M)\n",
    "    print(f'{H}:{M}')\n",
    "    assert int(H) < 24, K\n",
    "    assert int(M) < 60, K\n"
   ]
  },
  {
   "cell_type": "code",
   "execution_count": 130,
   "metadata": {},
   "outputs": [
    {
     "name": "stdout",
     "output_type": "stream",
     "text": [
      "1111111111\n"
     ]
    }
   ],
   "source": [
    "# import numpy as np\n",
    "N = int(input())\n",
    "# A = list(map(lambda x: x), input().split())\n",
    "A = []\n",
    "for i in range(N):\n",
    "    s = input()\n",
    "    A.append([s[j] for j in range(N)])\n",
    "nums = []\n",
    "for i_start in range(N):\n",
    "    for j_start in range(N):\n",
    "        i = i_start\n",
    "        j = j_start\n",
    "        num = A[i][j]\n",
    "        # した\n",
    "        for _ in range(N-1):\n",
    "            i += 1\n",
    "            if i < 0:\n",
    "                i = N + i\n",
    "            if j < 0:\n",
    "                j = N + j\n",
    "            if i > N - 1:\n",
    "                i = i - N\n",
    "            if j > N - 1:\n",
    "                j = j - N\n",
    "            num += A[i][j]\n",
    "        nums.append(num)\n",
    "        i = i_start\n",
    "        j = j_start\n",
    "        num = A[i][j]\n",
    "        #うえ\n",
    "        for _ in range(N-1):\n",
    "            i -= 1\n",
    "            if i < 0:\n",
    "                i = N + i\n",
    "            if j < 0:\n",
    "                j = N + j\n",
    "            if i > N - 1:\n",
    "                i = i - N\n",
    "            if j > N - 1:\n",
    "                j = j - N\n",
    "            num += A[i][j]\n",
    "        nums.append(num)\n",
    "        i = i_start\n",
    "        j = j_start\n",
    "        num = A[i][j]\n",
    "        #左\n",
    "        for _ in range(N-1):\n",
    "            j -= 1\n",
    "            if i < 0:\n",
    "                i = N + i\n",
    "            if j < 0:\n",
    "                j = N + j\n",
    "            if i > N - 1:\n",
    "                i = i - N\n",
    "            if j > N - 1:\n",
    "                j = j - N\n",
    "            num += A[i][j]\n",
    "        nums.append(num)\n",
    "        i = i_start\n",
    "        j = j_start\n",
    "        num = A[i][j]\n",
    "        #みぎ\n",
    "        for _ in range(N-1):\n",
    "            j += 1\n",
    "            if i < 0:\n",
    "                i = N + i\n",
    "            if j < 0:\n",
    "                j = N + j\n",
    "            if i > N - 1:\n",
    "                i = i - N\n",
    "            if j > N - 1:\n",
    "                j = j - N\n",
    "            num += A[i][j]\n",
    "        nums.append(num)\n",
    "        i = i_start\n",
    "        j = j_start\n",
    "        num = A[i][j]\n",
    "        #みぎうえ\n",
    "        for _ in range(N-1):\n",
    "            i -= 1\n",
    "            j += 1\n",
    "            if i < 0:\n",
    "                i = N + i\n",
    "            if j < 0:\n",
    "                j = N + j\n",
    "            if i > N - 1:\n",
    "                i = i - N\n",
    "            if j > N - 1:\n",
    "                j = j - N\n",
    "            num += A[i][j]\n",
    "        nums.append(num)\n",
    "        i = i_start\n",
    "        j = j_start\n",
    "        num = A[i][j]\n",
    "        #みぎした\n",
    "        for _ in range(N-1):\n",
    "            i += 1\n",
    "            j += 1\n",
    "            if i < 0:\n",
    "                i = N + i\n",
    "            if j < 0:\n",
    "                j = N + j\n",
    "            if i > N - 1:\n",
    "                i = i - N\n",
    "            if j > N - 1:\n",
    "                j = j - N\n",
    "            num += A[i][j]\n",
    "        nums.append(num)\n",
    "        i = i_start\n",
    "        j = j_start\n",
    "        num = A[i][j]\n",
    "        #左上\n",
    "        for _ in range(N-1):\n",
    "            i -= 1\n",
    "            j -= 1\n",
    "            if i < 0:\n",
    "                i = N + i\n",
    "            if j < 0:\n",
    "                j = N + j\n",
    "            if i > N - 1:\n",
    "                i = i - N\n",
    "            if j > N - 1:\n",
    "                j = j - N\n",
    "            num += A[i][j]\n",
    "        nums.append(num)\n",
    "        i = i_start\n",
    "        j = j_start\n",
    "        num = A[i][j]\n",
    "        #左下\n",
    "        for _ in range(N-1):\n",
    "            i += 1\n",
    "            j -= 1\n",
    "            if i < 0:\n",
    "                i = N + i\n",
    "            if j < 0:\n",
    "                j = N + j\n",
    "            if i > N - 1:\n",
    "                i = i - N\n",
    "            if j > N - 1:\n",
    "                j = j - N\n",
    "            num += A[i][j]\n",
    "        nums.append(num)\n",
    "\n",
    "max = 0\n",
    "for n_ in nums:\n",
    "    n = int(n_)\n",
    "    if n <= max:\n",
    "        continue\n",
    "    if n > max:\n",
    "        max = n\n",
    "\n",
    "print(max)   \n"
   ]
  },
  {
   "cell_type": "code",
   "execution_count": null,
   "metadata": {},
   "outputs": [],
   "source": [
    "nums = []\n",
    "for i_start in range(N):\n",
    "    for j_start in range(N):\n",
    "        i = i_start\n",
    "        j = j_start\n",
    "        num = A[i][j]\n",
    "        # した\n",
    "        for _ in range(N-1):\n",
    "            i += 1\n",
    "            if i < 0:\n",
    "                i = N + i\n",
    "            if j < 0:\n",
    "                j = N + j\n",
    "            if i > N - 1:\n",
    "                i = i - N\n",
    "            if j > N - 1:\n",
    "                j = j - N\n",
    "            num += A[i][j]\n",
    "        nums.append(num)\n",
    "        i = i_start\n",
    "        j = j_start\n",
    "        num = A[i][j]\n",
    "        #うえ\n",
    "        for _ in range(N-1):\n",
    "            i -= 1\n",
    "            if i < 0:\n",
    "                i = N + i\n",
    "            if j < 0:\n",
    "                j = N + j\n",
    "            if i > N - 1:\n",
    "                i = i - N\n",
    "            if j > N - 1:\n",
    "                j = j - N\n",
    "            num += A[i][j]\n",
    "        nums.append(num)\n",
    "        i = i_start\n",
    "        j = j_start\n",
    "        num = A[i][j]\n",
    "        #左\n",
    "        for _ in range(N-1):\n",
    "            j -= 1\n",
    "            if i < 0:\n",
    "                i = N + i\n",
    "            if j < 0:\n",
    "                j = N + j\n",
    "            if i > N - 1:\n",
    "                i = i - N\n",
    "            if j > N - 1:\n",
    "                j = j - N\n",
    "            num += A[i][j]\n",
    "        nums.append(num)\n",
    "        i = i_start\n",
    "        j = j_start\n",
    "        num = A[i][j]\n",
    "        #みぎ\n",
    "        for _ in range(N-1):\n",
    "            j += 1\n",
    "            if i < 0:\n",
    "                i = N + i\n",
    "            if j < 0:\n",
    "                j = N + j\n",
    "            if i > N - 1:\n",
    "                i = i - N\n",
    "            if j > N - 1:\n",
    "                j = j - N\n",
    "            num += A[i][j]\n",
    "        nums.append(num)\n",
    "        i = i_start\n",
    "        j = j_start\n",
    "        num = A[i][j]\n",
    "        #みぎうえ\n",
    "        for _ in range(N-1):\n",
    "            i -= 1\n",
    "            j += 1\n",
    "            if i < 0:\n",
    "                i = N + i\n",
    "            if j < 0:\n",
    "                j = N + j\n",
    "            if i > N - 1:\n",
    "                i = i - N\n",
    "            if j > N - 1:\n",
    "                j = j - N\n",
    "            num += A[i][j]\n",
    "        nums.append(num)\n",
    "        i = i_start\n",
    "        j = j_start\n",
    "        num = A[i][j]\n",
    "        #みぎした\n",
    "        for _ in range(N-1):\n",
    "            i += 1\n",
    "            j += 1\n",
    "            if i < 0:\n",
    "                i = N + i\n",
    "            if j < 0:\n",
    "                j = N + j\n",
    "            if i > N - 1:\n",
    "                i = i - N\n",
    "            if j > N - 1:\n",
    "                j = j - N\n",
    "            num += A[i][j]\n",
    "        nums.append(num)\n",
    "        i = i_start\n",
    "        j = j_start\n",
    "        num = A[i][j]\n",
    "        #左上\n",
    "        for _ in range(N-1):\n",
    "            i -= 1\n",
    "            j -= 1\n",
    "            if i < 0:\n",
    "                i = N + i\n",
    "            if j < 0:\n",
    "                j = N + j\n",
    "            if i > N - 1:\n",
    "                i = i - N\n",
    "            if j > N - 1:\n",
    "                j = j - N\n",
    "            num += A[i][j]\n",
    "        nums.append(num)\n",
    "        i = i_start\n",
    "        j = j_start\n",
    "        num = A[i][j]\n",
    "        #左下\n",
    "        for _ in range(N-1):\n",
    "            i += 1\n",
    "            j -= 1\n",
    "            if i < 0:\n",
    "                i = N + i\n",
    "            if j < 0:\n",
    "                j = N + j\n",
    "            if i > N - 1:\n",
    "                i = i - N\n",
    "            if j > N - 1:\n",
    "                j = j - N\n",
    "            num += A[i][j]\n",
    "        nums.append(num)\n",
    "\n",
    "max = 0\n",
    "for n_ in nums:\n",
    "    n = int(n_)\n",
    "    if n <= max:\n",
    "        continue\n",
    "    if n > max:\n",
    "        max = n\n",
    "\n",
    "print(max)   \n"
   ]
  },
  {
   "cell_type": "code",
   "execution_count": null,
   "metadata": {},
   "outputs": [],
   "source": [
    "for N in range(1,11,1):\n",
    "    for A in range(1,10,1):"
   ]
  },
  {
   "cell_type": "code",
   "execution_count": 122,
   "metadata": {},
   "outputs": [],
   "source": [
    "N = 2\n",
    "A = [['1','2'],['3','4']]"
   ]
  },
  {
   "cell_type": "code",
   "execution_count": 116,
   "metadata": {},
   "outputs": [],
   "source": [
    "N = 3\n",
    "A = [['1','2','3'],['4','5','6'],['7','8','9']]"
   ]
  },
  {
   "cell_type": "code",
   "execution_count": 124,
   "metadata": {},
   "outputs": [],
   "source": [
    "N = 1\n",
    "A = [['1']]"
   ]
  },
  {
   "cell_type": "code",
   "execution_count": null,
   "metadata": {},
   "outputs": [],
   "source": []
  },
  {
   "cell_type": "code",
   "execution_count": 125,
   "metadata": {},
   "outputs": [
    {
     "name": "stdout",
     "output_type": "stream",
     "text": [
      "1\n"
     ]
    }
   ],
   "source": [
    "nums = []\n",
    "for i_start in range(N):\n",
    "    for j_start in range(N):\n",
    "        i = i_start\n",
    "        j = j_start\n",
    "        num = A[i][j]\n",
    "        # した\n",
    "        for _ in range(N-1):\n",
    "            i += 1\n",
    "            if i < 0:\n",
    "                i = N + i\n",
    "            if j < 0:\n",
    "                j = N + j\n",
    "            if i > N - 1:\n",
    "                i = i - N\n",
    "            if j > N - 1:\n",
    "                j = j - N\n",
    "            num += A[i][j]\n",
    "        nums.append(num)\n",
    "        i = i_start\n",
    "        j = j_start\n",
    "        num = A[i][j]\n",
    "        #うえ\n",
    "        for _ in range(N-1):\n",
    "            i -= 1\n",
    "            if i < 0:\n",
    "                i = N + i\n",
    "            if j < 0:\n",
    "                j = N + j\n",
    "            if i > N - 1:\n",
    "                i = i - N\n",
    "            if j > N - 1:\n",
    "                j = j - N\n",
    "            num += A[i][j]\n",
    "        nums.append(num)\n",
    "        i = i_start\n",
    "        j = j_start\n",
    "        num = A[i][j]\n",
    "        #左\n",
    "        for _ in range(N-1):\n",
    "            j -= 1\n",
    "            if i < 0:\n",
    "                i = N + i\n",
    "            if j < 0:\n",
    "                j = N + j\n",
    "            if i > N - 1:\n",
    "                i = i - N\n",
    "            if j > N - 1:\n",
    "                j = j - N\n",
    "            num += A[i][j]\n",
    "        nums.append(num)\n",
    "        i = i_start\n",
    "        j = j_start\n",
    "        num = A[i][j]\n",
    "        #みぎ\n",
    "        for _ in range(N-1):\n",
    "            j += 1\n",
    "            if i < 0:\n",
    "                i = N + i\n",
    "            if j < 0:\n",
    "                j = N + j\n",
    "            if i > N - 1:\n",
    "                i = i - N\n",
    "            if j > N - 1:\n",
    "                j = j - N\n",
    "            num += A[i][j]\n",
    "        nums.append(num)\n",
    "        i = i_start\n",
    "        j = j_start\n",
    "        num = A[i][j]\n",
    "        #みぎうえ\n",
    "        for _ in range(N-1):\n",
    "            i -= 1\n",
    "            j += 1\n",
    "            if i < 0:\n",
    "                i = N + i\n",
    "            if j < 0:\n",
    "                j = N + j\n",
    "            if i > N - 1:\n",
    "                i = i - N\n",
    "            if j > N - 1:\n",
    "                j = j - N\n",
    "            num += A[i][j]\n",
    "        nums.append(num)\n",
    "        i = i_start\n",
    "        j = j_start\n",
    "        num = A[i][j]\n",
    "        #みぎした\n",
    "        for _ in range(N-1):\n",
    "            i += 1\n",
    "            j += 1\n",
    "            if i < 0:\n",
    "                i = N + i\n",
    "            if j < 0:\n",
    "                j = N + j\n",
    "            if i > N - 1:\n",
    "                i = i - N\n",
    "            if j > N - 1:\n",
    "                j = j - N\n",
    "            num += A[i][j]\n",
    "        nums.append(num)\n",
    "        i = i_start\n",
    "        j = j_start\n",
    "        num = A[i][j]\n",
    "        #左上\n",
    "        for _ in range(N-1):\n",
    "            i -= 1\n",
    "            j -= 1\n",
    "            if i < 0:\n",
    "                i = N + i\n",
    "            if j < 0:\n",
    "                j = N + j\n",
    "            if i > N - 1:\n",
    "                i = i - N\n",
    "            if j > N - 1:\n",
    "                j = j - N\n",
    "            num += A[i][j]\n",
    "        nums.append(num)\n",
    "        i = i_start\n",
    "        j = j_start\n",
    "        num = A[i][j]\n",
    "        #左下\n",
    "        for _ in range(N-1):\n",
    "            i += 1\n",
    "            j -= 1\n",
    "            if i < 0:\n",
    "                i = N + i\n",
    "            if j < 0:\n",
    "                j = N + j\n",
    "            if i > N - 1:\n",
    "                i = i - N\n",
    "            if j > N - 1:\n",
    "                j = j - N\n",
    "            num += A[i][j]\n",
    "        nums.append(num)\n",
    "\n",
    "max = 0\n",
    "for n_ in nums:\n",
    "    n = int(n_)\n",
    "    if n <= max:\n",
    "        continue\n",
    "    if n > max:\n",
    "        max = n\n",
    "\n",
    "print(max)   \n"
   ]
  },
  {
   "cell_type": "code",
   "execution_count": null,
   "metadata": {},
   "outputs": [],
   "source": []
  },
  {
   "cell_type": "code",
   "execution_count": 118,
   "metadata": {},
   "outputs": [
    {
     "name": "stdout",
     "output_type": "stream",
     "text": [
      "0 0\n",
      "1 0\n",
      "2 0\n",
      "0 1\n",
      "1 1\n",
      "2 1\n",
      "0 2\n",
      "1 2\n",
      "2 2\n",
      "1 0\n",
      "2 0\n",
      "0 0\n",
      "1 1\n",
      "2 1\n",
      "0 1\n",
      "1 2\n",
      "2 2\n",
      "0 2\n",
      "2 0\n",
      "0 0\n",
      "1 0\n",
      "2 1\n",
      "0 1\n",
      "1 1\n",
      "2 2\n",
      "0 2\n",
      "1 2\n"
     ]
    }
   ],
   "source": [
    "nums = []\n",
    "for i_start in range(N):\n",
    "    for j_start in range(N):\n",
    "        i = i_start\n",
    "        j = j_start\n",
    "        num = A[i][j]\n",
    "        print(i,j)\n",
    "        # した\n",
    "        for _ in range(N-1):\n",
    "\n",
    "            i += 1\n",
    "            if i < 0:\n",
    "                i = N + i\n",
    "            if j < 0:\n",
    "                j = N + j\n",
    "            if i > N - 1:\n",
    "                i = i - N\n",
    "            if j > N - 1:\n",
    "                j = j - N\n",
    "            print(i,j)\n",
    "            num += A[i][j]\n",
    "        nums.append(num)\n",
    "        i = i_start\n",
    "        j = j_start\n",
    "        num = A[i][j]"
   ]
  },
  {
   "cell_type": "code",
   "execution_count": 111,
   "metadata": {},
   "outputs": [
    {
     "name": "stdout",
     "output_type": "stream",
     "text": [
      "2 0\n"
     ]
    },
    {
     "ename": "IndexError",
     "evalue": "list index out of range",
     "output_type": "error",
     "traceback": [
      "\u001b[0;31m---------------------------------------------------------------------------\u001b[0m",
      "\u001b[0;31mIndexError\u001b[0m                                Traceback (most recent call last)",
      "\u001b[0;32m/var/folders/yy/5vn5bk_d7kq_wrl03_9g4rl00000gn/T/ipykernel_97197/2098793970.py\u001b[0m in \u001b[0;36m<module>\u001b[0;34m\u001b[0m\n\u001b[1;32m      1\u001b[0m \u001b[0mprint\u001b[0m\u001b[0;34m(\u001b[0m\u001b[0mi\u001b[0m\u001b[0;34m,\u001b[0m\u001b[0mj\u001b[0m\u001b[0;34m)\u001b[0m\u001b[0;34m\u001b[0m\u001b[0;34m\u001b[0m\u001b[0m\n\u001b[0;32m----> 2\u001b[0;31m \u001b[0mA\u001b[0m\u001b[0;34m[\u001b[0m\u001b[0mi\u001b[0m\u001b[0;34m]\u001b[0m\u001b[0;34m[\u001b[0m\u001b[0mj\u001b[0m\u001b[0;34m]\u001b[0m\u001b[0;34m\u001b[0m\u001b[0;34m\u001b[0m\u001b[0m\n\u001b[0m",
      "\u001b[0;31mIndexError\u001b[0m: list index out of range"
     ]
    }
   ],
   "source": [
    "print(i,j)\n",
    "A[i][j]"
   ]
  },
  {
   "cell_type": "code",
   "execution_count": 115,
   "metadata": {},
   "outputs": [
    {
     "data": {
      "text/plain": [
       "['1', '2', '3']"
      ]
     },
     "execution_count": 115,
     "metadata": {},
     "output_type": "execute_result"
    }
   ],
   "source": [
    "A[0]"
   ]
  },
  {
   "cell_type": "code",
   "execution_count": 102,
   "metadata": {},
   "outputs": [
    {
     "name": "stdout",
     "output_type": "stream",
     "text": [
      "1 1\n",
      "2 2\n",
      "0 0\n"
     ]
    }
   ],
   "source": [
    "i = 1\n",
    "j = 1\n",
    "print(i,j)\n",
    "for _ in range(N-1):\n",
    "    i += 1\n",
    "    j += 1\n",
    "\n",
    "    if i < 0:\n",
    "        i = N + i\n",
    "    if j < 0:\n",
    "        j = N + j\n",
    "    if i > N - 1:\n",
    "        i = i - N\n",
    "    if j > N - 1:\n",
    "        j = j - N\n",
    "\n",
    "    print(i,j)\n",
    "    # num += A[i][j]"
   ]
  },
  {
   "cell_type": "code",
   "execution_count": 109,
   "metadata": {},
   "outputs": [
    {
     "name": "stdout",
     "output_type": "stream",
     "text": [
      "0\n",
      "1\n"
     ]
    }
   ],
   "source": [
    "for _ in range(N-1):\n",
    "    print(_)"
   ]
  },
  {
   "cell_type": "code",
   "execution_count": 108,
   "metadata": {},
   "outputs": [
    {
     "data": {
      "text/plain": [
       "3"
      ]
     },
     "execution_count": 108,
     "metadata": {},
     "output_type": "execute_result"
    }
   ],
   "source": [
    "N"
   ]
  },
  {
   "cell_type": "code",
   "execution_count": 85,
   "metadata": {},
   "outputs": [
    {
     "name": "stdout",
     "output_type": "stream",
     "text": [
      "0\n"
     ]
    }
   ],
   "source": [
    "for _ in range(1):\n",
    "    print(_)"
   ]
  },
  {
   "cell_type": "code",
   "execution_count": null,
   "metadata": {},
   "outputs": [],
   "source": []
  }
 ],
 "metadata": {
  "interpreter": {
   "hash": "2b43b5d15b6f9ea835a53185cc6e992b19a76332aa15a30cf18385032cf68e62"
  },
  "kernelspec": {
   "display_name": "Python 3.9.5 ('base')",
   "language": "python",
   "name": "python3"
  },
  "language_info": {
   "codemirror_mode": {
    "name": "ipython",
    "version": 3
   },
   "file_extension": ".py",
   "mimetype": "text/x-python",
   "name": "python",
   "nbconvert_exporter": "python",
   "pygments_lexer": "ipython3",
   "version": "3.9.5"
  },
  "orig_nbformat": 4
 },
 "nbformat": 4,
 "nbformat_minor": 2
}
