{
 "cells": [
  {
   "cell_type": "code",
   "execution_count": 1,
   "metadata": {},
   "outputs": [
    {
     "ename": "ValueError",
     "evalue": "not enough values to unpack (expected 3, got 0)",
     "output_type": "error",
     "traceback": [
      "\u001b[0;31m---------------------------------------------------------------------------\u001b[0m",
      "\u001b[0;31mValueError\u001b[0m                                Traceback (most recent call last)",
      "\u001b[0;32m/var/folders/yy/5vn5bk_d7kq_wrl03_9g4rl00000gn/T/ipykernel_94496/1756599268.py\u001b[0m in \u001b[0;36m<module>\u001b[0;34m\u001b[0m\n\u001b[0;32m----> 1\u001b[0;31m \u001b[0mN\u001b[0m\u001b[0;34m,\u001b[0m\u001b[0mX\u001b[0m\u001b[0;34m,\u001b[0m\u001b[0mY\u001b[0m \u001b[0;34m=\u001b[0m \u001b[0;34m(\u001b[0m\u001b[0mmap\u001b[0m\u001b[0;34m(\u001b[0m\u001b[0mint\u001b[0m\u001b[0;34m,\u001b[0m \u001b[0minput\u001b[0m\u001b[0;34m(\u001b[0m\u001b[0;34m)\u001b[0m\u001b[0;34m.\u001b[0m\u001b[0msplit\u001b[0m\u001b[0;34m(\u001b[0m\u001b[0;34m)\u001b[0m\u001b[0;34m)\u001b[0m\u001b[0;34m)\u001b[0m\u001b[0;34m\u001b[0m\u001b[0;34m\u001b[0m\u001b[0m\n\u001b[0m\u001b[1;32m      2\u001b[0m \u001b[0;34m\u001b[0m\u001b[0m\n\u001b[1;32m      3\u001b[0m \u001b[0mA\u001b[0m \u001b[0;34m=\u001b[0m \u001b[0;34m[\u001b[0m\u001b[0;36m0\u001b[0m \u001b[0;32mfor\u001b[0m \u001b[0m_\u001b[0m \u001b[0;32min\u001b[0m \u001b[0mrange\u001b[0m\u001b[0;34m(\u001b[0m\u001b[0mN\u001b[0m\u001b[0;34m)\u001b[0m\u001b[0;34m]\u001b[0m\u001b[0;34m\u001b[0m\u001b[0;34m\u001b[0m\u001b[0m\n\u001b[1;32m      4\u001b[0m \u001b[0;34m\u001b[0m\u001b[0m\n\u001b[1;32m      5\u001b[0m \u001b[0mA\u001b[0m\u001b[0;34m[\u001b[0m\u001b[0;36m0\u001b[0m\u001b[0;34m]\u001b[0m \u001b[0;34m=\u001b[0m \u001b[0mX\u001b[0m\u001b[0;34m\u001b[0m\u001b[0;34m\u001b[0m\u001b[0m\n",
      "\u001b[0;31mValueError\u001b[0m: not enough values to unpack (expected 3, got 0)"
     ]
    }
   ],
   "source": [
    "N,X,Y = (map(int, input().split()))\n",
    "\n",
    "A = [0 for _ in range(N)]\n",
    "\n",
    "A[0] = X\n",
    "A[1] = Y\n",
    "for i in range(2,N,1):\n",
    "    A[i] = (A[i-1] + A[i-2]) % 100\n",
    "print(A[-1])\n",
    "\n"
   ]
  },
  {
   "cell_type": "code",
   "execution_count": null,
   "metadata": {},
   "outputs": [],
   "source": [
    "N = int(input())\n",
    "A = list(map(int,input().split()))\n",
    "\n",
    "dp = [float('inf')] * N\n",
    "\n",
    "dp[0] = 0\n",
    "dp[1] = A[1]\n",
    "for i in range(2,N):\n",
    "    dp[i] = min(dp[i-1] + A[i], dp[i-2] + 2 * A[i])\n",
    "print(dp[-1])"
   ]
  },
  {
   "cell_type": "code",
   "execution_count": null,
   "metadata": {},
   "outputs": [
    {
     "name": "stdout",
     "output_type": "stream",
     "text": [
      "3\n"
     ]
    }
   ],
   "source": [
    "N = int(input())\n",
    "\n",
    "A = [0] * N\n",
    "A[0] = 1\n",
    "A[1] = 1\n",
    "\n",
    "for i in range(2,N+1):\n",
    "    A[i] = A[i-1] + A[i-2]\n",
    "print(A[N])\n"
   ]
  },
  {
   "cell_type": "code",
   "execution_count": null,
   "metadata": {},
   "outputs": [],
   "source": [
    "A[0] = 1\n",
    "A[1] = 1\n",
    "A[2] = A[1] +1  = 2\n",
    "A[3] = A[2] + A[1] = 4\n",
    "a[4] = 7\n",
    "a[5]\n",
    "\n",
    "\n",
    "1 3\n",
    "2 2\n",
    "3 1"
   ]
  },
  {
   "cell_type": "code",
   "execution_count": null,
   "metadata": {},
   "outputs": [],
   "source": [
    "dp[4] = dp[3] + dp[2] + dp[1]"
   ]
  },
  {
   "cell_type": "code",
   "execution_count": null,
   "metadata": {},
   "outputs": [
    {
     "name": "stdout",
     "output_type": "stream",
     "text": [
      "1\n"
     ]
    }
   ],
   "source": [
    "N = int(input())\n",
    "\n",
    "dp = [0] * (N+1)\n",
    "\n",
    "dp[0] = 1\n",
    "dp[1] = 1\n",
    "\n",
    "if N > 1: dp[2] = 2\n",
    "\n",
    "for i in range(3,N+1):\n",
    "    dp[i] = dp[i-1] + dp[i-2] +  dp[i-3]\n",
    "    \n",
    "print(dp[N])"
   ]
  },
  {
   "cell_type": "code",
   "execution_count": null,
   "metadata": {},
   "outputs": [
    {
     "name": "stdout",
     "output_type": "stream",
     "text": [
      "0\n"
     ]
    }
   ],
   "source": [
    "N, M  = map(int, input().split())\n",
    "A = list(map(int, input().split()))\n",
    "\n",
    "dp = [0] * (N)\n",
    "for i in range(1,N):\n",
    "    for j in range(1,M+1):\n",
    "        if j > i:\n",
    "            break\n",
    "        dp[i] = min(dp[i], dp[i-j] + j*A[i])\n",
    "print(dp[-1])"
   ]
  },
  {
   "cell_type": "code",
   "execution_count": null,
   "metadata": {},
   "outputs": [
    {
     "name": "stdout",
     "output_type": "stream",
     "text": [
      "No\n"
     ]
    }
   ],
   "source": [
    "N, M  = map(int, input().split())\n",
    "D = list(map(int, input().split()))\n",
    "\n",
    "dp = [0] * (N+1)\n",
    "dp[0] = 1\n",
    "for i in range(N+1):\n",
    "    for j in range(M): \n",
    "        if i < D[j]:\n",
    "            continue\n",
    "        dp[i] += dp[i-D[j]]\n",
    "if dp[-1] > 0:\n",
    "    print('Yes')\n",
    "else:\n",
    "    print('No')"
   ]
  },
  {
   "cell_type": "code",
   "execution_count": null,
   "metadata": {},
   "outputs": [
    {
     "data": {
      "text/plain": [
       "array(1)"
      ]
     },
     "execution_count": 13,
     "metadata": {},
     "output_type": "execute_result"
    }
   ],
   "source": [
    "import numpy as np\n"
   ]
  },
  {
   "cell_type": "code",
   "execution_count": null,
   "metadata": {},
   "outputs": [
    {
     "name": "stdout",
     "output_type": "stream",
     "text": [
      "25\n"
     ]
    }
   ],
   "source": [
    "import numpy as np\n",
    "\n",
    "N = int(input())\n",
    "A = np.array([list(map(int, input().split()))])\n",
    "A = np.concatenate([A,np.zeros([N-1,N])])\n",
    "\n",
    "for i in range(1,N):\n",
    "    for j in range(N):\n",
    "        if j > 0 and j < N-1:\n",
    "            A[i][j] = (A[i-1][j-1] + A[i-1][j] + A[i-1][j+1]) % 100\n",
    "        elif j > 0:\n",
    "            A[i][j] = (A[i-1][j] + A[i-1][j-1]) % 100\n",
    "        elif j < N-1:\n",
    "            A[i][j] = (A[i-1][j] + A[i-1][j+1]) % 100\n",
    "print(int(A[-1][-1]))\n"
   ]
  },
  {
   "cell_type": "code",
   "execution_count": null,
   "metadata": {},
   "outputs": [
    {
     "name": "stdout",
     "output_type": "stream",
     "text": [
      "[0 1 2 3]\n",
      "[[0. 0. 0. 0.]\n",
      " [0. 0. 0. 0.]\n",
      " [0. 0. 0. 0.]]\n"
     ]
    }
   ],
   "source": [
    "print(A)\n",
    "print(np.zeros([3,4]))"
   ]
  },
  {
   "cell_type": "code",
   "execution_count": null,
   "metadata": {},
   "outputs": [
    {
     "name": "stdout",
     "output_type": "stream",
     "text": [
      "0 0\n",
      "0 1\n",
      "0 2\n",
      "1 0\n",
      "1 1\n",
      "1 2\n",
      "2 0\n",
      "2 1\n",
      "2 2\n",
      "------------------------------\n",
      "0 0\n",
      "0 1\n",
      "0 2\n",
      "1 1\n",
      "1 2\n",
      "2 2\n"
     ]
    }
   ],
   "source": [
    "N = 3\n",
    "for i in range(N):\n",
    "    for j in range(N):\n",
    "        print(i,j)\n",
    "\n",
    "print('-' * 30)\n",
    "\n",
    "for i in range(N):\n",
    "    for j in range(i,N):\n",
    "        print(i,j)\n",
    "\n",
    "\n",
    "\n"
   ]
  },
  {
   "cell_type": "markdown",
   "metadata": {},
   "source": []
  },
  {
   "cell_type": "code",
   "execution_count": null,
   "metadata": {},
   "outputs": [
    {
     "name": "stdout",
     "output_type": "stream",
     "text": [
      "-259.423617114473,-473.5033124311205\n"
     ]
    }
   ],
   "source": [
    "import numpy as np\n",
    "from math import sin, cos, radians\n",
    "a,b,d = map(int, input().split())\n",
    "\n",
    "A = np.array([a,b])\n",
    "t = radians(-d)\n",
    "D = np.array([[cos(t), -sin(t)],[sin(t), cos(t)]])\n",
    "ans = np.dot(A,D)\n",
    "print(f'{ans[0]},{ans[1]}')\n"
   ]
  },
  {
   "cell_type": "code",
   "execution_count": null,
   "metadata": {},
   "outputs": [
    {
     "data": {
      "text/plain": [
       "array([[ 0.1391731 ,  0.99026807],\n",
       "       [-0.99026807,  0.1391731 ]])"
      ]
     },
     "execution_count": 40,
     "metadata": {},
     "output_type": "execute_result"
    }
   ],
   "source": [
    "D"
   ]
  },
  {
   "cell_type": "code",
   "execution_count": null,
   "metadata": {},
   "outputs": [],
   "source": []
  },
  {
   "cell_type": "code",
   "execution_count": null,
   "metadata": {},
   "outputs": [
    {
     "data": {
      "text/plain": [
       "array([[ 1.0000000e+00,  2.4492936e-16],\n",
       "       [-2.4492936e-16,  1.0000000e+00]])"
      ]
     },
     "execution_count": 45,
     "metadata": {},
     "output_type": "execute_result"
    }
   ],
   "source": [
    "d = 360\n",
    "t = radians(d)\n",
    "np.array([[cos(t), -sin(t)],[sin(t), cos(t)]])"
   ]
  },
  {
   "cell_type": "code",
   "execution_count": null,
   "metadata": {},
   "outputs": [
    {
     "ename": "ValueError",
     "evalue": "not enough values to unpack (expected 3, got 0)",
     "output_type": "error",
     "traceback": [
      "\u001b[0;31m---------------------------------------------------------------------------\u001b[0m",
      "\u001b[0;31mValueError\u001b[0m                                Traceback (most recent call last)",
      "\u001b[0;32m/var/folders/yy/5vn5bk_d7kq_wrl03_9g4rl00000gn/T/ipykernel_6043/733568763.py\u001b[0m in \u001b[0;36m<module>\u001b[0;34m\u001b[0m\n\u001b[1;32m     12\u001b[0m     \u001b[0mprint\u001b[0m\u001b[0;34m(\u001b[0m\u001b[0;34mf'{ans[0]} {ans[1]}'\u001b[0m\u001b[0;34m)\u001b[0m\u001b[0;34m\u001b[0m\u001b[0;34m\u001b[0m\u001b[0m\n\u001b[1;32m     13\u001b[0m \u001b[0;34m\u001b[0m\u001b[0m\n\u001b[0;32m---> 14\u001b[0;31m \u001b[0mmain\u001b[0m\u001b[0;34m(\u001b[0m\u001b[0;34m)\u001b[0m\u001b[0;34m\u001b[0m\u001b[0;34m\u001b[0m\u001b[0m\n\u001b[0m",
      "\u001b[0;32m/var/folders/yy/5vn5bk_d7kq_wrl03_9g4rl00000gn/T/ipykernel_6043/733568763.py\u001b[0m in \u001b[0;36mmain\u001b[0;34m()\u001b[0m\n\u001b[1;32m      4\u001b[0m     \u001b[0;32mimport\u001b[0m \u001b[0mnumpy\u001b[0m \u001b[0;32mas\u001b[0m \u001b[0mnp\u001b[0m\u001b[0;34m\u001b[0m\u001b[0;34m\u001b[0m\u001b[0m\n\u001b[1;32m      5\u001b[0m     \u001b[0;32mfrom\u001b[0m \u001b[0mmath\u001b[0m \u001b[0;32mimport\u001b[0m \u001b[0msin\u001b[0m\u001b[0;34m,\u001b[0m \u001b[0mcos\u001b[0m\u001b[0;34m,\u001b[0m \u001b[0mradians\u001b[0m\u001b[0;34m\u001b[0m\u001b[0;34m\u001b[0m\u001b[0m\n\u001b[0;32m----> 6\u001b[0;31m     \u001b[0ma\u001b[0m\u001b[0;34m,\u001b[0m\u001b[0mb\u001b[0m\u001b[0;34m,\u001b[0m\u001b[0md\u001b[0m \u001b[0;34m=\u001b[0m \u001b[0mmap\u001b[0m\u001b[0;34m(\u001b[0m\u001b[0mint\u001b[0m\u001b[0;34m,\u001b[0m \u001b[0minput\u001b[0m\u001b[0;34m(\u001b[0m\u001b[0;34m)\u001b[0m\u001b[0;34m.\u001b[0m\u001b[0msplit\u001b[0m\u001b[0;34m(\u001b[0m\u001b[0;34m)\u001b[0m\u001b[0;34m)\u001b[0m\u001b[0;34m\u001b[0m\u001b[0;34m\u001b[0m\u001b[0m\n\u001b[0m\u001b[1;32m      7\u001b[0m \u001b[0;34m\u001b[0m\u001b[0m\n\u001b[1;32m      8\u001b[0m     \u001b[0mA\u001b[0m \u001b[0;34m=\u001b[0m \u001b[0mnp\u001b[0m\u001b[0;34m.\u001b[0m\u001b[0marray\u001b[0m\u001b[0;34m(\u001b[0m\u001b[0;34m[\u001b[0m\u001b[0ma\u001b[0m\u001b[0;34m,\u001b[0m\u001b[0mb\u001b[0m\u001b[0;34m]\u001b[0m\u001b[0;34m)\u001b[0m\u001b[0;34m\u001b[0m\u001b[0;34m\u001b[0m\u001b[0m\n",
      "\u001b[0;31mValueError\u001b[0m: not enough values to unpack (expected 3, got 0)"
     ]
    }
   ],
   "source": [
    "#!/usr/bin/env python3\n",
    "\n",
    "def main():\n",
    "    import numpy as np\n",
    "    from math import sin, cos, radians\n",
    "    a,b,d = map(int, input().split())\n",
    "\n",
    "    A = np.array([a,b])\n",
    "    t = radians(-d)\n",
    "    D = np.array([[cos(t), -sin(t)],[sin(t), cos(t)]])\n",
    "    ans = np.dot(A,D)\n",
    "    print(f'{ans[0]} {ans[1]}')\n",
    "\n",
    "main()\n"
   ]
  },
  {
   "cell_type": "code",
   "execution_count": 8,
   "metadata": {},
   "outputs": [
    {
     "name": "stdout",
     "output_type": "stream",
     "text": [
      "No\n"
     ]
    }
   ],
   "source": [
    "#!/usr/bin/env python3\n",
    "\n",
    "def main():\n",
    "    S = input()\n",
    "    T = input()\n",
    "    \n",
    "    lst = []\n",
    "    j = 0\n",
    "    flag = False\n",
    "\n",
    "    for i in range(len(S)-1):\n",
    "        if S[i] == S[i+1]:\n",
    "            lst.append(i)\n",
    "\n",
    "\n",
    "    # print(lst)\n",
    "    \n",
    "\n",
    "    if T == S:\n",
    "        flag = True\n",
    "    \n",
    "    while len(lst) > 0 and j+len(S) <= len(T):\n",
    "        for i in lst:\n",
    "            S_ = S[:i] + j * S[i] + S[i:]\n",
    "            # print(S_)\n",
    "            if T == S_:\n",
    "                flag = True\n",
    "                break\n",
    "\n",
    "        j += 1\n",
    "\n",
    "    \n",
    "    if flag:\n",
    "        print('Yes')\n",
    "    else:\n",
    "        print('No')\n",
    "\n",
    "main()\n"
   ]
  },
  {
   "cell_type": "code",
   "execution_count": null,
   "metadata": {},
   "outputs": [],
   "source": [
    "#!/usr/bin/env python3\n",
    "\n",
    "def main():\n",
    "    S = input()\n",
    "    T = input()\n",
    "    \n",
    "    lst = []\n",
    "    j = 0\n",
    "    flag = False\n",
    "\n",
    "    for i in range(len(S)-1):\n",
    "        if S[i] == S[i+1]:\n",
    "            lst.append(i)\n",
    "\n",
    "    dp = [0] * N\n",
    "    \n",
    "    n = [0] * len(lst) \n",
    "    \n",
    "    for l in lst:\n",
    "        S[:]\n",
    "\n",
    "    for i in range():\n",
    "        \n",
    "    \n",
    "    if flag:\n",
    "        print('Yes')\n",
    "    else:\n",
    "        print('No')\n",
    "\n",
    "main()\n"
   ]
  },
  {
   "cell_type": "code",
   "execution_count": null,
   "metadata": {},
   "outputs": [],
   "source": [
    "\n",
    "func(S,i,)"
   ]
  },
  {
   "cell_type": "code",
   "execution_count": null,
   "metadata": {},
   "outputs": [],
   "source": [
    "'affggt'\n",
    "'afffffgggggggttttppi'\n",
    "\n",
    "\n",
    "num[j] * S[]\n",
    "\n",
    "for lst []\n",
    "\n",
    "S[:i]+ num[]S[i] + S[i:]\n",
    "\n",
    "\n",
    "\n"
   ]
  },
  {
   "cell_type": "code",
   "execution_count": 9,
   "metadata": {},
   "outputs": [
    {
     "data": {
      "text/plain": [
       "['a', 'f', 'f', 't', 'g', 'g', 'm']"
      ]
     },
     "execution_count": 9,
     "metadata": {},
     "output_type": "execute_result"
    }
   ],
   "source": [
    "S = \"afftggm\"\n",
    "list(S)"
   ]
  },
  {
   "cell_type": "code",
   "execution_count": null,
   "metadata": {},
   "outputs": [],
   "source": [
    "\n",
    "lst = [[0,1],[1,2],[4,2],[5,1]]\n",
    "\n",
    "S[0:lst[0][0]] + lst[0][1] * S[1] + S[lst[0][0]:lst[1]] + num[1] * S[4] + S[4:]\n",
    "S[]"
   ]
  },
  {
   "cell_type": "code",
   "execution_count": null,
   "metadata": {},
   "outputs": [],
   "source": [
    "N = len(T)\n",
    "lst = [3,6]\n",
    "S[lst[i]]"
   ]
  },
  {
   "cell_type": "code",
   "execution_count": 10,
   "metadata": {},
   "outputs": [
    {
     "name": "stdout",
     "output_type": "stream",
     "text": [
      "Odd\n"
     ]
    }
   ],
   "source": [
    "a, b = map(int, input().split())\n",
    "\n",
    "c = a * b\n",
    "\n",
    "if c % 2 == 0:\n",
    "    print('Even')\n",
    "else:\n",
    "    print('Odd')"
   ]
  },
  {
   "cell_type": "code",
   "execution_count": 12,
   "metadata": {},
   "outputs": [
    {
     "name": "stdout",
     "output_type": "stream",
     "text": [
      "2\n"
     ]
    }
   ],
   "source": [
    "s = input()\n",
    "\n",
    "cnt = 0\n",
    "for c in s:\n",
    "    if c == '1':\n",
    "        cnt += 1\n",
    "print(cnt)\n",
    "    "
   ]
  },
  {
   "cell_type": "code",
   "execution_count": 17,
   "metadata": {},
   "outputs": [
    {
     "name": "stdout",
     "output_type": "stream",
     "text": [
      "5\n"
     ]
    }
   ],
   "source": [
    "N = int(input())\n",
    "A = list(map(int, input().split()))\n",
    "\n",
    "A.sort(reverse=True)\n",
    "\n",
    "al = 0\n",
    "bo = 0\n",
    "\n",
    "for i in range(N):\n",
    "    if i % 2 == 0:\n",
    "        al += A[i]\n",
    "    else:\n",
    "        bo += A[i]\n",
    "\n",
    "print(al - bo)\n",
    "\n"
   ]
  },
  {
   "cell_type": "code",
   "execution_count": 19,
   "metadata": {},
   "outputs": [
    {
     "name": "stdout",
     "output_type": "stream",
     "text": [
      "1\n"
     ]
    }
   ],
   "source": [
    "#!/usr/bin/env python3\n",
    "\n",
    "def main():\n",
    "    N,K = map(int, input().split())\n",
    "    L = list(map(int, input().split()))\n",
    "\n",
    "    L.sort(reverse=True)\n",
    "    print(sum(L[:K]))\n",
    "\n",
    "main()\n"
   ]
  },
  {
   "cell_type": "code",
   "execution_count": null,
   "metadata": {},
   "outputs": [],
   "source": [
    "N,x = map(int, input().split())\n",
    "A = list(map(int, input().split()))\n",
    "\n",
    "A.sort()\n",
    "total = 0\n",
    "\n",
    "for i in range(N):\n",
    "    if x < A[i]:\n",
    "        break\n",
    "    total += 1\n",
    "    x -= A[i]\n",
    "\n",
    "print(total)\n",
    "\n",
    "\n"
   ]
  }
 ],
 "metadata": {
  "kernelspec": {
   "display_name": "Python 3.9.5 ('base')",
   "language": "python",
   "name": "python3"
  },
  "language_info": {
   "codemirror_mode": {
    "name": "ipython",
    "version": 3
   },
   "file_extension": ".py",
   "mimetype": "text/x-python",
   "name": "python",
   "nbconvert_exporter": "python",
   "pygments_lexer": "ipython3",
   "version": "3.9.5"
  },
  "orig_nbformat": 4,
  "vscode": {
   "interpreter": {
    "hash": "2b43b5d15b6f9ea835a53185cc6e992b19a76332aa15a30cf18385032cf68e62"
   }
  }
 },
 "nbformat": 4,
 "nbformat_minor": 2
}
