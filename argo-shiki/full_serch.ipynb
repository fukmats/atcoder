{
 "cells": [
  {
   "cell_type": "code",
   "execution_count": null,
   "metadata": {},
   "outputs": [],
   "source": [
    "A = [a for a in range(10)]\n",
    "V = 8"
   ]
  },
  {
   "cell_type": "code",
   "execution_count": null,
   "metadata": {},
   "outputs": [],
   "source": [
    "N,V = map(int, input().split())\n",
    "A = list(map(int, input().split()))"
   ]
  },
  {
   "cell_type": "code",
   "execution_count": null,
   "metadata": {},
   "outputs": [],
   "source": [
    "flag = False\n",
    "for a in A:\n",
    "    if a == V:\n",
    "        flag =True\n",
    "        break\n",
    "    else:\n",
    "        continue\n",
    "if flag == True:\n",
    "    print('Yes')\n",
    "else:\n",
    "    print('No')"
   ]
  },
  {
   "cell_type": "code",
   "execution_count": null,
   "metadata": {},
   "outputs": [],
   "source": [
    "N,V = map(int, input().split())\n",
    "A = list(map(int, input().split()))"
   ]
  },
  {
   "cell_type": "code",
   "execution_count": null,
   "metadata": {},
   "outputs": [],
   "source": [
    "num = 0\n",
    "for a in A:\n",
    "    if a == V:\n",
    "        num += 1\n",
    "    else:\n",
    "        continue\n",
    "print(num)"
   ]
  },
  {
   "cell_type": "code",
   "execution_count": null,
   "metadata": {},
   "outputs": [],
   "source": [
    "N = int(input())\n",
    "A = list(map(int, input().split()))"
   ]
  },
  {
   "cell_type": "code",
   "execution_count": null,
   "metadata": {},
   "outputs": [],
   "source": [
    "num = 0\n",
    "for a in A:\n",
    "    if a > 0:\n",
    "        num += 1\n",
    "    else:\n",
    "        continue\n",
    "print(num)"
   ]
  },
  {
   "cell_type": "code",
   "execution_count": null,
   "metadata": {},
   "outputs": [],
   "source": []
  },
  {
   "cell_type": "code",
   "execution_count": null,
   "metadata": {},
   "outputs": [],
   "source": [
    "N,V = map(int, input().split())\n",
    "A = list(map(int, input().split()))"
   ]
  },
  {
   "cell_type": "code",
   "execution_count": null,
   "metadata": {},
   "outputs": [],
   "source": [
    "def solver_1(N,V,A):\n",
    "    pos_l = [-1]\n",
    "    i = 0\n",
    "    for a in A:\n",
    "        if a == V:\n",
    "            pos_l.append(i)\n",
    "        i += 1\n",
    "    pos  = pos_l[-1]\n",
    "    return pos"
   ]
  },
  {
   "cell_type": "code",
   "execution_count": null,
   "metadata": {},
   "outputs": [],
   "source": [
    "def solver_2(N,V,A):\n",
    "    pos = -1\n",
    "    i = 0\n",
    "    for a in reversed(A):\n",
    "        if a == V:\n",
    "            # print(pos)\n",
    "            pos = i\n",
    "            break\n",
    "        i += 1\n",
    "    if pos > -1:\n",
    "        pos = N-pos-1\n",
    "    return pos"
   ]
  },
  {
   "cell_type": "code",
   "execution_count": null,
   "metadata": {},
   "outputs": [],
   "source": [
    "import random\n",
    "for _ in range(1000):\n",
    "    N = random.randrange(1,100)\n",
    "    V = random.randrange(1,100)\n",
    "    A = [random.randrange(1,100) for _ in range(N)]\n",
    "\n",
    "    pos1 = solver_1(N,V,A)\n",
    "    pos2 = solver_2(N,V,A)\n",
    "    assert pos1 == pos2, f'{N=},{V=},{A=},{pos1=},{pos2=}'"
   ]
  },
  {
   "cell_type": "code",
   "execution_count": null,
   "metadata": {},
   "outputs": [],
   "source": [
    "assert pos1 == pos2, f'{pos1},{pos2}'"
   ]
  },
  {
   "cell_type": "code",
   "execution_count": null,
   "metadata": {},
   "outputs": [],
   "source": [
    "def solver_1(N,A):\n",
    "    num = 0\n",
    "    for i in range(1,N-1,1):\n",
    "        if A[i] > A[i-1]:\n",
    "            num += 1\n",
    "    print(num)"
   ]
  },
  {
   "cell_type": "code",
   "execution_count": null,
   "metadata": {},
   "outputs": [],
   "source": [
    "N = int(input())\n",
    "A = list(map(int, input().split()))"
   ]
  },
  {
   "cell_type": "code",
   "execution_count": null,
   "metadata": {},
   "outputs": [],
   "source": [
    "A"
   ]
  },
  {
   "cell_type": "code",
   "execution_count": null,
   "metadata": {},
   "outputs": [],
   "source": [
    "def ch_max(a, b):\n",
    "    if a < b:\n",
    "        return b\n",
    "    else:\n",
    "        return a\n",
    "max = -101\n",
    "for i in range(N):\n",
    "    max = ch_max(max, A[i])\n",
    "    # print(A[i])\n",
    "print(max)\n",
    "\n",
    "    "
   ]
  },
  {
   "cell_type": "code",
   "execution_count": null,
   "metadata": {},
   "outputs": [],
   "source": [
    "A"
   ]
  },
  {
   "cell_type": "code",
   "execution_count": null,
   "metadata": {},
   "outputs": [],
   "source": [
    "N = int(input())\n",
    "A = list(map(int, input().split()))"
   ]
  },
  {
   "cell_type": "code",
   "execution_count": null,
   "metadata": {},
   "outputs": [],
   "source": [
    "def ch_max(a, b, pos, i):\n",
    "    if a < b:\n",
    "        return i\n",
    "    else:\n",
    "        return pos\n",
    "pos = 0\n",
    "for i in range(N):\n",
    "    pos = ch_max(A[pos], A[i],pos, i)\n",
    "    # print(A[i])\n",
    "print(pos)"
   ]
  },
  {
   "cell_type": "code",
   "execution_count": null,
   "metadata": {},
   "outputs": [],
   "source": [
    "def ch_min(a, b):\n",
    "    if a > b:\n",
    "        return b\n",
    "    else:\n",
    "        return a\n",
    "min = 101\n",
    "for i in range(N):\n",
    "    min = ch_min(min, A[i])\n",
    "    # print(A[i])\n",
    "print(min)"
   ]
  },
  {
   "cell_type": "code",
   "execution_count": null,
   "metadata": {},
   "outputs": [],
   "source": [
    "counts = [0 for _ in range(9)]\n",
    "for i in range(N):\n",
    "    for n in range(1,10,1):\n",
    "        if A[i] == n:\n",
    "            counts[n-1] += 1\n",
    "for c in counts:\n",
    "    print(c)\n",
    "\n"
   ]
  },
  {
   "cell_type": "code",
   "execution_count": null,
   "metadata": {},
   "outputs": [],
   "source": [
    "N = int(input())\n",
    "A = list(map(int, input().split()))"
   ]
  },
  {
   "cell_type": "code",
   "execution_count": null,
   "metadata": {},
   "outputs": [],
   "source": [
    "def ch_max(k_max,v_max, counts, j):\n",
    "    if v_max < counts[j]:\n",
    "        return j,counts[j]\n",
    "    else:\n",
    "        return k_max, v_max\n",
    "\n",
    "counts = [0 for _ in range(9)]\n",
    "for i in range(N):\n",
    "    for n in range(1,10,1):\n",
    "        if A[i] == n:\n",
    "            counts[n-1] += 1\n",
    "k_max = 0\n",
    "v_max = 0\n",
    "\n",
    "for j in range(len(counts)):\n",
    "    k_max,v_max = ch_max(k_max, v_max, counts, j)\n",
    "print(k_max+1,v_max)\n",
    "    \n"
   ]
  },
  {
   "cell_type": "code",
   "execution_count": null,
   "metadata": {},
   "outputs": [],
   "source": [
    "counts"
   ]
  },
  {
   "cell_type": "code",
   "execution_count": null,
   "metadata": {},
   "outputs": [],
   "source": [
    "num = 0\n",
    "for i in range(1,N+1,1):\n",
    "    if i % 2 != 0 and i % 3 != 0 and i % 5 != 0:\n",
    "        num += 1\n",
    "print(num)\n",
    "        "
   ]
  },
  {
   "cell_type": "code",
   "execution_count": null,
   "metadata": {},
   "outputs": [],
   "source": [
    "for N in range(1,101,1):\n",
    "    num = 0\n",
    "    for i in range(N):\n",
    "        if i % 2 != 0 and i % 3 != 0 and i % 5 != 0:\n",
    "            num += 1\n",
    "    print(num)"
   ]
  },
  {
   "cell_type": "code",
   "execution_count": null,
   "metadata": {},
   "outputs": [],
   "source": [
    "num = 0\n",
    "for i in range(1,N+1,1):\n",
    "    if N % i == 0:\n",
    "        num += 1\n",
    "print(num)"
   ]
  },
  {
   "cell_type": "code",
   "execution_count": null,
   "metadata": {},
   "outputs": [],
   "source": [
    "N = int(input())"
   ]
  },
  {
   "cell_type": "code",
   "execution_count": null,
   "metadata": {},
   "outputs": [],
   "source": [
    "num = 0\n",
    "if N == 1:\n",
    "     print('Yes')\n",
    "\n",
    "if N > 2:\n",
    "    for i in range(2,N+1,1):\n",
    "        if N % i == 0:\n",
    "            num += 1\n",
    "    if num == 1:\n",
    "        print('Yes')\n",
    "    else:\n",
    "        print('No')"
   ]
  },
  {
   "cell_type": "code",
   "execution_count": null,
   "metadata": {},
   "outputs": [],
   "source": [
    "A,B = map(int, input().split())"
   ]
  },
  {
   "cell_type": "code",
   "execution_count": null,
   "metadata": {},
   "outputs": [],
   "source": [
    "min = A\n",
    "if min > B:\n",
    "    min = B\n",
    "for i in reversed(range(1,min+1,1)):\n",
    "    if A % i == 0 and B % i == 0:\n",
    "        ans = i\n",
    "        break\n",
    "print(ans)\n"
   ]
  },
  {
   "cell_type": "code",
   "execution_count": null,
   "metadata": {},
   "outputs": [],
   "source": [
    "N = int(input())\n",
    "for i in range(1,N+1,1):\n",
    "    if i % 3 == 0 and i % 5 == 0:\n",
    "        print('FizzBuzz')\n",
    "    elif i % 3 == 0:\n",
    "        print('Fizz')\n",
    "    elif i % 5 == 0:\n",
    "        print('Buzz')\n",
    "    else:\n",
    "        print(i)"
   ]
  },
  {
   "cell_type": "code",
   "execution_count": null,
   "metadata": {},
   "outputs": [],
   "source": [
    "S = input()\n",
    "c = input()\n"
   ]
  },
  {
   "cell_type": "code",
   "execution_count": null,
   "metadata": {},
   "outputs": [],
   "source": [
    "S = input()\n",
    "c = input()\n",
    "if c in S:\n",
    "    print('Yes')\n",
    "else:\n",
    "    print('No')"
   ]
  },
  {
   "cell_type": "code",
   "execution_count": null,
   "metadata": {},
   "outputs": [],
   "source": [
    "for s in S:\n",
    "    if s == c:\n",
    "        flag = True\n",
    "if flag:\n",
    "    print('Yes')\n",
    "else:\n",
    "    print('No')"
   ]
  },
  {
   "cell_type": "code",
   "execution_count": null,
   "metadata": {},
   "outputs": [],
   "source": [
    "S = input()\n",
    "flag = True\n",
    "for i in range(len(S)):\n",
    "    if S[i] != S[-i-1]:\n",
    "        flag = False\n",
    "        break\n",
    "if flag:\n",
    "    print('Yes')\n",
    "else:\n",
    "    print('No')\n",
    "\n"
   ]
  },
  {
   "cell_type": "code",
   "execution_count": null,
   "metadata": {},
   "outputs": [],
   "source": [
    "S = input()\n",
    "num = 0\n",
    "for i in range(len(S)):\n",
    "    if S[i] == S[i-1]:\n",
    "        num += 1\n",
    "print(num)\n",
    "\n"
   ]
  },
  {
   "cell_type": "code",
   "execution_count": null,
   "metadata": {},
   "outputs": [],
   "source": []
  },
  {
   "cell_type": "code",
   "execution_count": null,
   "metadata": {},
   "outputs": [],
   "source": [
    "N = int(input())\n",
    "S = input()\n",
    "T = input()"
   ]
  },
  {
   "cell_type": "code",
   "execution_count": null,
   "metadata": {},
   "outputs": [],
   "source": [
    "num = 0\n",
    "for i in range(N):\n",
    "    if S[i] != T[i]:\n",
    "        num += 1\n",
    "print(num)"
   ]
  },
  {
   "cell_type": "code",
   "execution_count": null,
   "metadata": {},
   "outputs": [],
   "source": [
    "S = input()\n",
    "T = input()"
   ]
  },
  {
   "cell_type": "code",
   "execution_count": null,
   "metadata": {},
   "outputs": [],
   "source": [
    "flag = False\n",
    "for i in range(len(S)):\n",
    "    if S[i:i+len(T)] == T:\n",
    "        flag = True\n",
    "if flag:\n",
    "    print('Yes')\n",
    "else:\n",
    "    print('No')\n",
    "    "
   ]
  },
  {
   "cell_type": "code",
   "execution_count": null,
   "metadata": {},
   "outputs": [],
   "source": [
    "i = 1"
   ]
  },
  {
   "cell_type": "code",
   "execution_count": null,
   "metadata": {},
   "outputs": [],
   "source": [
    "S[i:i+len(T)]"
   ]
  },
  {
   "cell_type": "code",
   "execution_count": null,
   "metadata": {},
   "outputs": [],
   "source": [
    "N = int(input())\n",
    "A = list(map(int,input().split()))\n"
   ]
  },
  {
   "cell_type": "code",
   "execution_count": null,
   "metadata": {},
   "outputs": [],
   "source": [
    "N = int(input())\n",
    "A = list(map(int,input().split()))\n",
    "num = 0\n",
    "for i in range(N):\n",
    "    num_ = 0\n",
    "    for j in range(1,A[i]+1,1):\n",
    "        if A[i] % j == 0:\n",
    "            num_ += 1\n",
    "    if num_ == 2:\n",
    "        num += 1\n",
    "\n"
   ]
  },
  {
   "cell_type": "code",
   "execution_count": null,
   "metadata": {},
   "outputs": [],
   "source": [
    "N, K = map(int, input().split())\n"
   ]
  },
  {
   "cell_type": "code",
   "execution_count": null,
   "metadata": {},
   "outputs": [],
   "source": [
    "nums = []\n",
    "for i in range(1, N+1, 1):\n",
    "    num = 0\n",
    "    for j in range(1,i+1,1):\n",
    "        if i % j == 0:\n",
    "            num += 1\n",
    "    if num == K:\n",
    "        nums.append(i)\n",
    "print(len(nums))\n"
   ]
  },
  {
   "cell_type": "code",
   "execution_count": null,
   "metadata": {},
   "outputs": [],
   "source": [
    "L, R = map(int, input().split())\n",
    "\n"
   ]
  },
  {
   "cell_type": "code",
   "execution_count": null,
   "metadata": {},
   "outputs": [],
   "source": [
    "num = 0\n",
    "for i in range(L,R+1,1):\n",
    "    flag = True\n",
    "    for j in range(i):\n",
    "        if str(i)[j] != str(i)[-j-1]:\n",
    "            flag = False\n",
    "            break\n",
    "    if flag:\n",
    "        num += 1\n",
    "print(num)"
   ]
  },
  {
   "cell_type": "code",
   "execution_count": null,
   "metadata": {},
   "outputs": [],
   "source": [
    "d = {}\n",
    "for s in range(S):\n",
    "    for t in range(S):\n",
    "        if s == t:\n",
    "\n"
   ]
  },
  {
   "cell_type": "code",
   "execution_count": null,
   "metadata": {},
   "outputs": [],
   "source": [
    "S"
   ]
  },
  {
   "cell_type": "code",
   "execution_count": null,
   "metadata": {},
   "outputs": [],
   "source": [
    "S.translate({'aa':''})"
   ]
  },
  {
   "cell_type": "code",
   "execution_count": null,
   "metadata": {},
   "outputs": [],
   "source": [
    "s.pop()"
   ]
  },
  {
   "cell_type": "code",
   "execution_count": null,
   "metadata": {},
   "outputs": [],
   "source": [
    "for i in range(10**7):\n",
    "    s = 'aaaaaaaabb'\n",
    "    s.strip('a')\n",
    "s = 'aaaaaaaabb'\n",
    "print(s.strip('a'))"
   ]
  },
  {
   "cell_type": "code",
   "execution_count": null,
   "metadata": {},
   "outputs": [],
   "source": [
    "for i in range(10*7):   \n",
    "    s.lstrip('a')\n",
    "s = 'aaaaaaaabb'\n",
    "print(s.lstrip('a'))"
   ]
  },
  {
   "cell_type": "code",
   "execution_count": null,
   "metadata": {},
   "outputs": [],
   "source": [
    "for i in range(10*7):\n",
    "    s.rstrip('a')\n",
    "s = 'aaaaaaaabb'\n",
    "print(s.rstrip('a'))"
   ]
  },
  {
   "cell_type": "code",
   "execution_count": null,
   "metadata": {},
   "outputs": [],
   "source": []
  }
 ],
 "metadata": {
  "interpreter": {
   "hash": "2b43b5d15b6f9ea835a53185cc6e992b19a76332aa15a30cf18385032cf68e62"
  },
  "kernelspec": {
   "display_name": "Python 3.9.5 ('base')",
   "language": "python",
   "name": "python3"
  },
  "language_info": {
   "codemirror_mode": {
    "name": "ipython",
    "version": 3
   },
   "file_extension": ".py",
   "mimetype": "text/x-python",
   "name": "python",
   "nbconvert_exporter": "python",
   "pygments_lexer": "ipython3",
   "version": "3.9.5"
  },
  "orig_nbformat": 4
 },
 "nbformat": 4,
 "nbformat_minor": 2
}
