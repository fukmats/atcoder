{
 "cells": [
  {
   "cell_type": "code",
   "execution_count": 14,
   "metadata": {},
   "outputs": [],
   "source": [
    "import random \n",
    "import time \n",
    "import numpy as np\n",
    "from collections import deque"
   ]
  },
  {
   "cell_type": "code",
   "execution_count": 15,
   "metadata": {},
   "outputs": [],
   "source": [
    "A = [1,5,3]\n",
    "N = len(A)"
   ]
  },
  {
   "cell_type": "code",
   "execution_count": 16,
   "metadata": {},
   "outputs": [],
   "source": [
    "def swap(A,i,j):\n",
    "    # A[i], A[j] = A[j], A[i]\n",
    "    tmp = A[i]\n",
    "    A[i] = A[j]\n",
    "    A[j] = tmp\n",
    "    return A\n",
    "\n",
    "def show(A):\n",
    "    ans = ''\n",
    "    for a in A:\n",
    "        ans += str(a) + ' '\n",
    "    print(ans)"
   ]
  },
  {
   "cell_type": "code",
   "execution_count": 56,
   "metadata": {},
   "outputs": [],
   "source": [
    "N = int(input())\n",
    "A = list(map(int, input().split()))"
   ]
  },
  {
   "cell_type": "code",
   "execution_count": 18,
   "metadata": {},
   "outputs": [
    {
     "data": {
      "text/plain": [
       "[1, 3, 5]"
      ]
     },
     "execution_count": 18,
     "metadata": {},
     "output_type": "execute_result"
    }
   ],
   "source": [
    "def bubble_sort(N,A):\n",
    "    k = 1\n",
    "    while True:\n",
    "        nums = 0\n",
    "        for i in range(0,N-k,1):\n",
    "            if A[i] > A[i+1]:\n",
    "                swap(A,i,i+1)\n",
    "                nums += 1\n",
    "        if nums == 0:\n",
    "            break\n",
    "        # show(A)\n",
    "        k += 1\n",
    "    return A\n",
    "bubble_sort(N,A)"
   ]
  },
  {
   "cell_type": "code",
   "execution_count": 19,
   "metadata": {},
   "outputs": [
    {
     "data": {
      "text/plain": [
       "[1, 3, 5]"
      ]
     },
     "execution_count": 19,
     "metadata": {},
     "output_type": "execute_result"
    }
   ],
   "source": [
    "def selection_sort(N,A):\n",
    "    for k in range(N-1):\n",
    "        i_min = k\n",
    "        for j in range(k,N,1):\n",
    "            if A[i_min] > A[j]:\n",
    "                i_min = j\n",
    "        swap(A,i_min, k)\n",
    "        # show(A)\n",
    "    return A\n",
    "selection_sort(N,A)"
   ]
  },
  {
   "cell_type": "code",
   "execution_count": 20,
   "metadata": {},
   "outputs": [
    {
     "data": {
      "text/plain": [
       "[1, 3, 5]"
      ]
     },
     "execution_count": 20,
     "metadata": {},
     "output_type": "execute_result"
    }
   ],
   "source": [
    "def insertion_sort(N,A):\n",
    "    for k in range(1,N,1):\n",
    "        pos = k\n",
    "        while pos != 0 and A[pos-1] > A[pos]:\n",
    "            swap(A,pos-1,pos)\n",
    "            pos -= 1\n",
    "            # show(A)\n",
    "    return A\n",
    "\n",
    "insertion_sort(N,A)"
   ]
  },
  {
   "cell_type": "code",
   "execution_count": 21,
   "metadata": {},
   "outputs": [
    {
     "ename": "NameError",
     "evalue": "name 'quick_sort' is not defined",
     "output_type": "error",
     "traceback": [
      "\u001b[0;31m---------------------------------------------------------------------------\u001b[0m",
      "\u001b[0;31mNameError\u001b[0m                                 Traceback (most recent call last)",
      "\u001b[0;32m/var/folders/yy/5vn5bk_d7kq_wrl03_9g4rl00000gn/T/ipykernel_3058/1931138991.py\u001b[0m in \u001b[0;36m<module>\u001b[0;34m\u001b[0m\n\u001b[1;32m      3\u001b[0m     \u001b[0mA\u001b[0m \u001b[0;34m=\u001b[0m \u001b[0;34m[\u001b[0m\u001b[0mrandom\u001b[0m\u001b[0;34m.\u001b[0m\u001b[0mrandrange\u001b[0m\u001b[0;34m(\u001b[0m\u001b[0mn\u001b[0m\u001b[0;34m)\u001b[0m \u001b[0;32mfor\u001b[0m \u001b[0mn\u001b[0m \u001b[0;32min\u001b[0m \u001b[0mrange\u001b[0m\u001b[0;34m(\u001b[0m\u001b[0;36m1\u001b[0m\u001b[0;34m,\u001b[0m\u001b[0mN\u001b[0m\u001b[0;34m+\u001b[0m\u001b[0;36m1\u001b[0m\u001b[0;34m,\u001b[0m\u001b[0;36m1\u001b[0m\u001b[0;34m)\u001b[0m\u001b[0;34m]\u001b[0m\u001b[0;34m\u001b[0m\u001b[0;34m\u001b[0m\u001b[0m\n\u001b[1;32m      4\u001b[0m     \u001b[0;32massert\u001b[0m \u001b[0minsertion_sort\u001b[0m\u001b[0;34m(\u001b[0m\u001b[0mN\u001b[0m\u001b[0;34m,\u001b[0m\u001b[0mA\u001b[0m\u001b[0;34m)\u001b[0m \u001b[0;34m==\u001b[0m \u001b[0mselection_sort\u001b[0m\u001b[0;34m(\u001b[0m\u001b[0mN\u001b[0m\u001b[0;34m,\u001b[0m\u001b[0mA\u001b[0m\u001b[0;34m)\u001b[0m\u001b[0;34m,\u001b[0m \u001b[0mprint\u001b[0m\u001b[0;34m(\u001b[0m\u001b[0mN\u001b[0m\u001b[0;34m,\u001b[0m\u001b[0mA\u001b[0m\u001b[0;34m)\u001b[0m\u001b[0;34m\u001b[0m\u001b[0;34m\u001b[0m\u001b[0m\n\u001b[0;32m----> 5\u001b[0;31m     \u001b[0;32massert\u001b[0m \u001b[0mquick_sort\u001b[0m\u001b[0;34m(\u001b[0m\u001b[0mN\u001b[0m\u001b[0;34m,\u001b[0m\u001b[0mA\u001b[0m\u001b[0;34m)\u001b[0m \u001b[0;34m==\u001b[0m \u001b[0mbubble_sort\u001b[0m\u001b[0;34m(\u001b[0m\u001b[0mN\u001b[0m\u001b[0;34m,\u001b[0m\u001b[0mA\u001b[0m\u001b[0;34m)\u001b[0m\u001b[0;34m,\u001b[0m \u001b[0mprint\u001b[0m\u001b[0;34m(\u001b[0m\u001b[0mN\u001b[0m\u001b[0;34m,\u001b[0m\u001b[0mA\u001b[0m\u001b[0;34m)\u001b[0m\u001b[0;34m\u001b[0m\u001b[0;34m\u001b[0m\u001b[0m\n\u001b[0m\u001b[1;32m      6\u001b[0m     \u001b[0;32massert\u001b[0m \u001b[0mrandomized_quick_sort\u001b[0m\u001b[0;34m(\u001b[0m\u001b[0mN\u001b[0m\u001b[0;34m,\u001b[0m\u001b[0mA\u001b[0m\u001b[0;34m)\u001b[0m \u001b[0;34m==\u001b[0m \u001b[0mmerge_sort\u001b[0m\u001b[0;34m(\u001b[0m\u001b[0mN\u001b[0m\u001b[0;34m,\u001b[0m\u001b[0mA\u001b[0m\u001b[0;34m)\u001b[0m\u001b[0;34m\u001b[0m\u001b[0;34m\u001b[0m\u001b[0m\n",
      "\u001b[0;31mNameError\u001b[0m: name 'quick_sort' is not defined"
     ]
    }
   ],
   "source": [
    "for _ in range(10**3):\n",
    "    N = random.randrange(2,10)\n",
    "    A = [random.randrange(n) for n in range(1,N+1,1)]\n",
    "    assert insertion_sort(N,A) == selection_sort(N,A), print(N,A)\n",
    "    assert quick_sort(N,A) == bubble_sort(N,A), print(N,A)\n",
    "    assert randomized_quick_sort(N,A) == merge_sort(N,A)"
   ]
  },
  {
   "cell_type": "code",
   "execution_count": 22,
   "metadata": {},
   "outputs": [],
   "source": [
    "A = [1,5,3,3,7]\n",
    "N = len(A)"
   ]
  },
  {
   "cell_type": "code",
   "execution_count": 23,
   "metadata": {},
   "outputs": [
    {
     "name": "stdout",
     "output_type": "stream",
     "text": [
      "1 3 3 5 7 \n"
     ]
    }
   ],
   "source": [
    "def quick_sort(N,A):\n",
    "    X = N // 2\n",
    "    L = []\n",
    "    R = []\n",
    "    for i in range(N):\n",
    "        if i == X:\n",
    "            continue\n",
    "        elif A[i] < A[X]:\n",
    "            L.append(A[i])\n",
    "        elif A[i] >= A[X]:\n",
    "            R.append(A[i])\n",
    "    if L != []:\n",
    "        L = quick_sort(len(L),L)\n",
    "    if R != []:\n",
    "        R = quick_sort(len(R),R)\n",
    "    A = L + [A[X]] + R\n",
    "    return A\n",
    "\n",
    "\n",
    "show(quick_sort(N,A))\n"
   ]
  },
  {
   "cell_type": "code",
   "execution_count": 24,
   "metadata": {},
   "outputs": [
    {
     "name": "stdout",
     "output_type": "stream",
     "text": [
      "1 3 3 5 7 \n"
     ]
    }
   ],
   "source": [
    "def randomized_quick_sort(N,A):\n",
    "    X = random.randrange(0,N)\n",
    "    L = []\n",
    "    R = []\n",
    "    for i in range(N):\n",
    "        if i == X:\n",
    "            continue\n",
    "        elif A[i] < A[X]:\n",
    "            L.append(A[i])\n",
    "        elif A[i] > A[X]:\n",
    "            R.append(A[i])\n",
    "        elif A[i] == A[X]:\n",
    "            random.choice([L,R]).append(A[i])\n",
    "    if L != []:\n",
    "        L = randomized_quick_sort(len(L),L)\n",
    "    if R != []:\n",
    "        R = randomized_quick_sort(len(R),R)\n",
    "    A = L + [A[X]] + R\n",
    "    return A\n",
    "\n",
    "show(randomized_quick_sort(N,A))\n"
   ]
  },
  {
   "cell_type": "code",
   "execution_count": 25,
   "metadata": {},
   "outputs": [],
   "source": [
    "N = 10**5\n",
    "A = [random.randrange(n) for n in range(1,N+1,1)]\n",
    "X = N//2"
   ]
  },
  {
   "cell_type": "code",
   "execution_count": 26,
   "metadata": {},
   "outputs": [
    {
     "data": {
      "text/plain": [
       "100000"
      ]
     },
     "execution_count": 26,
     "metadata": {},
     "output_type": "execute_result"
    }
   ],
   "source": [
    "N"
   ]
  },
  {
   "cell_type": "code",
   "execution_count": 27,
   "metadata": {},
   "outputs": [],
   "source": [
    "def merge_sort(N,A):\n",
    "    X = N // 2\n",
    "    L = A[:X]\n",
    "    R = A[X:]\n",
    "    if len(L) > 1:\n",
    "        L = merge_sort(len(L),L)\n",
    "    if len(R) > 1:\n",
    "        R = merge_sort(len(R),R)\n",
    "    R.reverse()\n",
    "    L = L + R\n",
    "    B = []\n",
    "    for i in range(len(L)):\n",
    "        ef = L[0]\n",
    "        el = L[-1]\n",
    "        if ef <= el:\n",
    "            B.append(L.pop(0))\n",
    "        elif ef > el:\n",
    "            B.append(L.pop(-1))\n",
    "    return B\n",
    "\n",
    "_ = merge_sort(N,A)"
   ]
  },
  {
   "cell_type": "code",
   "execution_count": 28,
   "metadata": {},
   "outputs": [],
   "source": [
    "def merge_sort(N,A):\n",
    "    X = N // 2\n",
    "    L = A[:X]\n",
    "    R = A[X:]\n",
    "    if len(L) > 1:\n",
    "        L = merge_sort(len(L),L)\n",
    "    if len(R) > 1:\n",
    "        R = merge_sort(len(R),R)\n",
    "    R.reverse()\n",
    "    L = deque(L + R)\n",
    "    B = []\n",
    "    for i in range(len(L)):\n",
    "        ef = L[0]\n",
    "        el = L[-1]\n",
    "        if ef <= el:\n",
    "            B.append(L.popleft())\n",
    "        elif ef > el:\n",
    "            B.append(L.pop())\n",
    "    return B\n",
    "\n",
    "_ = merge_sort(N,A)"
   ]
  },
  {
   "cell_type": "code",
   "execution_count": 29,
   "metadata": {},
   "outputs": [],
   "source": [
    "# Python program for implementation of MergeSort\n",
    " \n",
    "# Merges two subarrays of arr[].\n",
    "# First subarray is arr[l..m]\n",
    "# Second subarray is arr[m+1..r]\n",
    " \n",
    " \n",
    "def merge(arr, l, m, r):\n",
    "    n1 = m - l + 1\n",
    "    n2 = r - m\n",
    " \n",
    "    # create temp arrays\n",
    "    L = [0] * (n1)\n",
    "    R = [0] * (n2)\n",
    " \n",
    "    # Copy data to temp arrays L[] and R[]\n",
    "    for i in range(0, n1):\n",
    "        L[i] = arr[l + i]\n",
    " \n",
    "    for j in range(0, n2):\n",
    "        R[j] = arr[m + 1 + j]\n",
    " \n",
    "    # Merge the temp arrays back into arr[l..r]\n",
    "    i = 0     # Initial index of first subarray\n",
    "    j = 0     # Initial index of second subarray\n",
    "    k = l     # Initial index of merged subarray\n",
    " \n",
    "    while i < n1 and j < n2:\n",
    "        if L[i] <= R[j]:\n",
    "            arr[k] = L[i]\n",
    "            i += 1\n",
    "        else:\n",
    "            arr[k] = R[j]\n",
    "            j += 1\n",
    "        k += 1\n",
    " \n",
    "    # Copy the remaining elements of L[], if there\n",
    "    # are any\n",
    "    while i < n1:\n",
    "        arr[k] = L[i]\n",
    "        i += 1\n",
    "        k += 1\n",
    " \n",
    "    # Copy the remaining elements of R[], if there\n",
    "    # are any\n",
    "    while j < n2:\n",
    "        arr[k] = R[j]\n",
    "        j += 1\n",
    "        k += 1\n",
    " \n",
    "# l is for left index and r is right index of the\n",
    "# sub-array of arr to be sorted\n",
    " \n",
    " \n",
    "def mergeSort(arr, l, r):\n",
    "    if l < r:\n",
    " \n",
    "        # Same as (l+r)//2, but avoids overflow for\n",
    "        # large l and h\n",
    "        m = l+(r-l)//2\n",
    " \n",
    "        # Sort first and second halves\n",
    "        mergeSort(arr, l, m)\n",
    "        mergeSort(arr, m+1, r)\n",
    "        merge(arr, l, m, r)\n",
    "\n",
    "mergeSort(A, 0, N-1)"
   ]
  },
  {
   "cell_type": "code",
   "execution_count": 30,
   "metadata": {},
   "outputs": [
    {
     "name": "stdout",
     "output_type": "stream",
     "text": [
      "0.6581721305847168\n"
     ]
    }
   ],
   "source": [
    "N = 10**7\n",
    "\n",
    "\n",
    "start_time = time.time()\n",
    "A_1 = [0] * N\n",
    "for _ in range(N):\n",
    "    len(A_1)\n",
    "end_time = time.time()\n",
    "print(end_time - start_time)"
   ]
  },
  {
   "cell_type": "code",
   "execution_count": 31,
   "metadata": {},
   "outputs": [
    {
     "name": "stdout",
     "output_type": "stream",
     "text": [
      "0.02698230743408203\n",
      "3.886222839355469e-05\n",
      "3.314018249511719e-05\n",
      "3.504753112792969e-05\n",
      "3.0994415283203125e-05\n"
     ]
    }
   ],
   "source": [
    "N = 10**1\n",
    "\n",
    "\n",
    "start_time = time.time()\n",
    "A_1 = [0] * N\n",
    "for _ in range(N):\n",
    "    del A_1[0]\n",
    "end_time = time.time()\n",
    "print(end_time - start_time)\n",
    "\n",
    "start_time = time.time()\n",
    "A_2 = [0] * N\n",
    "for _ in range(N):\n",
    "    A_2.pop(0)\n",
    "end_time = time.time()\n",
    "print(end_time - start_time)\n",
    "\n",
    "start_time = time.time()\n",
    "A_3 = [0] * N\n",
    "for _ in range(N):\n",
    "    A_3.pop(0)\n",
    "end_time = time.time()\n",
    "print(end_time - start_time)\n",
    "\n",
    "from collections import deque\n",
    "\n",
    "start_time = time.time()\n",
    "A_4 = deque([0] * N)\n",
    "for _ in range(N):\n",
    "    A_4.pop()\n",
    "end_time = time.time()\n",
    "print(end_time - start_time)\n",
    "\n",
    "\n",
    "start_time = time.time()\n",
    "A_5 = deque([0] * N)\n",
    "for _ in range(N):\n",
    "    A_5.popleft()\n",
    "end_time = time.time()\n",
    "print(end_time - start_time)\n",
    "\n",
    "\n",
    "\n",
    "assert A_1 == A_2 == list(A_3) == list(A_4) == list(A_5)"
   ]
  },
  {
   "cell_type": "code",
   "execution_count": 32,
   "metadata": {},
   "outputs": [
    {
     "data": {
      "text/plain": [
       "100000"
      ]
     },
     "execution_count": 32,
     "metadata": {},
     "output_type": "execute_result"
    }
   ],
   "source": [
    "len(A)"
   ]
  },
  {
   "cell_type": "code",
   "execution_count": 150,
   "metadata": {},
   "outputs": [],
   "source": [
    "\n",
    "A = [1,2,3,4,5,6,7]\n",
    "A.reverse()\n",
    "N = len(A)"
   ]
  },
  {
   "cell_type": "code",
   "execution_count": 146,
   "metadata": {},
   "outputs": [
    {
     "name": "stdout",
     "output_type": "stream",
     "text": [
      "2 2\n",
      "1 4\n",
      "0 1\n",
      "1 3\n",
      "7 6 5 4 3 1 2 \n"
     ]
    }
   ],
   "source": [
    "x = N // 2 - 1\n",
    "while x >= 0:\n",
    "    k = x\n",
    "    while True:\n",
    "        if len(A)-1 < 2*k+1:\n",
    "            break\n",
    "        else:\n",
    "            max_pos = k\n",
    "            if A[k] < A[2*k+1]:\n",
    "                max_pos = 2*k+1\n",
    "            if len(A)-1 >= 2*k+2 and A[max_pos] < A[2*k+2]:\n",
    "                max_pos = 2*k+2\n",
    "            print(k,max_pos)\n",
    "\n",
    "            if max_pos == k:\n",
    "                break\n",
    "            elif max_pos == 2*k+1:\n",
    "                A[k],A[2*k+1] = A[2*k+1], A[k]\n",
    "                k = 2*k+1\n",
    "            elif max_pos == 2*k+2:\n",
    "                A[k], A[2*k+2] = A[2*k+2], A[k]\n",
    "                k = 2*k+2\n",
    "    x -= 1\n",
    "show(A)"
   ]
  },
  {
   "cell_type": "code",
   "execution_count": 156,
   "metadata": {},
   "outputs": [],
   "source": [
    "N = 6 \n",
    "M = 4\n",
    "A = [1, 4, 2, 8, 5, 7]"
   ]
  },
  {
   "cell_type": "code",
   "execution_count": 165,
   "metadata": {},
   "outputs": [
    {
     "name": "stdout",
     "output_type": "stream",
     "text": [
      "5\n",
      "11\n",
      "3\n",
      "7\n",
      "1\n",
      "3\n",
      "9\n",
      "8 5 7 4 1 2 \n",
      "3\n",
      "1\n",
      "5\n",
      "11\n",
      "7 5 8 4 1 2 \n",
      "3\n",
      "9\n",
      "1\n",
      "5\n",
      "11\n",
      "8 7 2 4 5 1 \n",
      "8 7 2 4 5 1 \n"
     ]
    }
   ],
   "source": [
    "N = 6 \n",
    "M = 4\n",
    "A = [1, 4, 2, 8, 5, 7]\n",
    "def x_sort(A,N):\n",
    "    x = N // 2 - 1\n",
    "    while x >= 0:\n",
    "        k = x\n",
    "        while True:\n",
    "            print(2*k+1)\n",
    "            if len(A)-1 < 2*k+1:\n",
    "                break\n",
    "            else:\n",
    "                max_pos = k\n",
    "                if A[k] < A[2*k+1]:\n",
    "                    max_pos = 2*k+1\n",
    "                if len(A)-1 >= 2*k+2 and A[max_pos] < A[2*k+2]:\n",
    "                    max_pos = 2*k+2\n",
    "\n",
    "                if max_pos == k:\n",
    "                    break\n",
    "                elif max_pos == 2*k+1:\n",
    "                    A[k],A[2*k+1] = A[2*k+1], A[k]\n",
    "                    k = 2*k+1\n",
    "                elif max_pos == 2*k+2:\n",
    "                    A[k], A[2*k+2] = A[2*k+2], A[k]\n",
    "                    k = 2*k+2\n",
    "        x -= 1\n",
    "    return A\n",
    "x_sort(A,N)\n",
    "show(A)\n",
    "for i in reversed(range(1,N,1)):\n",
    "    A[0],A[i] = A[i],A[0]\n",
    "    x_sort(A,i)\n",
    "    show(A)\n",
    "    if i == M:\n",
    "        break\n",
    "show(A)\n"
   ]
  },
  {
   "cell_type": "code",
   "execution_count": null,
   "metadata": {},
   "outputs": [],
   "source": []
  },
  {
   "cell_type": "code",
   "execution_count": 122,
   "metadata": {},
   "outputs": [
    {
     "data": {
      "text/plain": [
       "True"
      ]
     },
     "execution_count": 122,
     "metadata": {},
     "output_type": "execute_result"
    }
   ],
   "source": [
    "k = 2\n",
    "len(A)-1 >= 2*k+2 and A[max_pos] < A[2*k+2]"
   ]
  },
  {
   "cell_type": "code",
   "execution_count": 116,
   "metadata": {},
   "outputs": [
    {
     "name": "stdout",
     "output_type": "stream",
     "text": [
      "1\n",
      "1\n",
      "1\n"
     ]
    },
    {
     "ename": "TypeError",
     "evalue": "'NoneType' object is not iterable",
     "output_type": "error",
     "traceback": [
      "\u001b[0;31m---------------------------------------------------------------------------\u001b[0m",
      "\u001b[0;31mTypeError\u001b[0m                                 Traceback (most recent call last)",
      "\u001b[0;32m/var/folders/yy/5vn5bk_d7kq_wrl03_9g4rl00000gn/T/ipykernel_3058/1328541606.py\u001b[0m in \u001b[0;36m<module>\u001b[0;34m\u001b[0m\n\u001b[1;32m     26\u001b[0m \u001b[0;34m\u001b[0m\u001b[0m\n\u001b[1;32m     27\u001b[0m         \u001b[0mx\u001b[0m \u001b[0;34m-=\u001b[0m \u001b[0;36m1\u001b[0m\u001b[0;34m\u001b[0m\u001b[0;34m\u001b[0m\u001b[0m\n\u001b[0;32m---> 28\u001b[0;31m \u001b[0mshow\u001b[0m\u001b[0;34m(\u001b[0m\u001b[0mheap_sort_\u001b[0m\u001b[0;34m(\u001b[0m\u001b[0mN\u001b[0m\u001b[0;34m,\u001b[0m\u001b[0mA\u001b[0m\u001b[0;34m)\u001b[0m\u001b[0;34m)\u001b[0m\u001b[0;34m\u001b[0m\u001b[0;34m\u001b[0m\u001b[0m\n\u001b[0m",
      "\u001b[0;32m/var/folders/yy/5vn5bk_d7kq_wrl03_9g4rl00000gn/T/ipykernel_3058/1282523973.py\u001b[0m in \u001b[0;36mshow\u001b[0;34m(A)\u001b[0m\n\u001b[1;32m      8\u001b[0m \u001b[0;32mdef\u001b[0m \u001b[0mshow\u001b[0m\u001b[0;34m(\u001b[0m\u001b[0mA\u001b[0m\u001b[0;34m)\u001b[0m\u001b[0;34m:\u001b[0m\u001b[0;34m\u001b[0m\u001b[0;34m\u001b[0m\u001b[0m\n\u001b[1;32m      9\u001b[0m     \u001b[0mans\u001b[0m \u001b[0;34m=\u001b[0m \u001b[0;34m''\u001b[0m\u001b[0;34m\u001b[0m\u001b[0;34m\u001b[0m\u001b[0m\n\u001b[0;32m---> 10\u001b[0;31m     \u001b[0;32mfor\u001b[0m \u001b[0ma\u001b[0m \u001b[0;32min\u001b[0m \u001b[0mA\u001b[0m\u001b[0;34m:\u001b[0m\u001b[0;34m\u001b[0m\u001b[0;34m\u001b[0m\u001b[0m\n\u001b[0m\u001b[1;32m     11\u001b[0m         \u001b[0mans\u001b[0m \u001b[0;34m+=\u001b[0m \u001b[0mstr\u001b[0m\u001b[0;34m(\u001b[0m\u001b[0ma\u001b[0m\u001b[0;34m)\u001b[0m \u001b[0;34m+\u001b[0m \u001b[0;34m' '\u001b[0m\u001b[0;34m\u001b[0m\u001b[0;34m\u001b[0m\u001b[0m\n\u001b[1;32m     12\u001b[0m     \u001b[0mprint\u001b[0m\u001b[0;34m(\u001b[0m\u001b[0mans\u001b[0m\u001b[0;34m)\u001b[0m\u001b[0;34m\u001b[0m\u001b[0;34m\u001b[0m\u001b[0m\n",
      "\u001b[0;31mTypeError\u001b[0m: 'NoneType' object is not iterable"
     ]
    }
   ],
   "source": [
    "def heap_sort_(N,A):\n",
    "    x = N // 2 - 1\n",
    "    while x >= 0:\n",
    "        k = x\n",
    "        while True:\n",
    "            if len(A)-1 < 2*k+1:\n",
    "                break\n",
    "            else:\n",
    "                max_pos = k\n",
    "                if A[k] < A[2*k+1]:\n",
    "                    print(1)\n",
    "                    max_pos = 2*k+1\n",
    "                if len(A)-1 >= 2*k+2 and A[max_pos] < 2*k+2:\n",
    "                    print(2)\n",
    "                    max_pos = 2*k+2\n",
    "\n",
    "                if max_pos == k:\n",
    "                    break\n",
    "                elif max_pos == 2*k+1:\n",
    "                    A[k],A[2*k+1] = A[2*k+1], A[k]\n",
    "                    k = 2*k+1\n",
    "                elif max_pos == 2*k+2:\n",
    "                    A[k], A[2*k+2] = A[2*k+2], A[k]\n",
    "                    k = 2*k+2\n",
    "                \n",
    "\n",
    "        x -= 1\n",
    "show(heap_sort_(N,A))"
   ]
  },
  {
   "cell_type": "code",
   "execution_count": 170,
   "metadata": {},
   "outputs": [
    {
     "data": {
      "text/plain": [
       "[8, 7, 5, 4, 2, 1]"
      ]
     },
     "execution_count": 170,
     "metadata": {},
     "output_type": "execute_result"
    }
   ],
   "source": [
    "A.sort(reverse=True)\n",
    "A"
   ]
  },
  {
   "cell_type": "code",
   "execution_count": 171,
   "metadata": {},
   "outputs": [
    {
     "name": "stdout",
     "output_type": "stream",
     "text": [
      "[1, 2, 4, 5, 7, 8]\n",
      "4.5\n"
     ]
    }
   ],
   "source": [
    "def mid(N,A):\n",
    "    A.sort()\n",
    "    print(A)\n",
    "    if N % 2 == 0:\n",
    "        m = (A[(N-1)//2] + A[(N-1)//2+1])/2\n",
    "    else:\n",
    "        m = A[(N-1)//2]\n",
    "    return m\n",
    "\n",
    "print(mid(N,A))"
   ]
  },
  {
   "cell_type": "code",
   "execution_count": null,
   "metadata": {},
   "outputs": [],
   "source": [
    "N,M = map(int, input().split())\n",
    "A = list(map(int, input().split()))\n",
    "X = list(map(int, input().split()))\n",
    "\n",
    "A.sort()\n",
    "for k in range(M):\n",
    "    print(A[X[k]])\n",
    "    \n"
   ]
  },
  {
   "cell_type": "code",
   "execution_count": 172,
   "metadata": {},
   "outputs": [
    {
     "ename": "ValueError",
     "evalue": "not enough values to unpack (expected 2, got 0)",
     "output_type": "error",
     "traceback": [
      "\u001b[0;31m---------------------------------------------------------------------------\u001b[0m",
      "\u001b[0;31mValueError\u001b[0m                                Traceback (most recent call last)",
      "\u001b[0;32m/var/folders/yy/5vn5bk_d7kq_wrl03_9g4rl00000gn/T/ipykernel_3058/1849821864.py\u001b[0m in \u001b[0;36m<module>\u001b[0;34m\u001b[0m\n\u001b[0;32m----> 1\u001b[0;31m \u001b[0mN\u001b[0m\u001b[0;34m,\u001b[0m\u001b[0mK\u001b[0m \u001b[0;34m=\u001b[0m \u001b[0mmap\u001b[0m\u001b[0;34m(\u001b[0m\u001b[0mint\u001b[0m\u001b[0;34m,\u001b[0m \u001b[0minput\u001b[0m\u001b[0;34m(\u001b[0m\u001b[0;34m)\u001b[0m\u001b[0;34m.\u001b[0m\u001b[0msplit\u001b[0m\u001b[0;34m(\u001b[0m\u001b[0;34m)\u001b[0m\u001b[0;34m)\u001b[0m\u001b[0;34m\u001b[0m\u001b[0;34m\u001b[0m\u001b[0m\n\u001b[0m\u001b[1;32m      2\u001b[0m \u001b[0mA\u001b[0m \u001b[0;34m=\u001b[0m \u001b[0mlist\u001b[0m\u001b[0;34m(\u001b[0m\u001b[0mmap\u001b[0m\u001b[0;34m(\u001b[0m\u001b[0mint\u001b[0m\u001b[0;34m,\u001b[0m \u001b[0minput\u001b[0m\u001b[0;34m(\u001b[0m\u001b[0;34m)\u001b[0m\u001b[0;34m.\u001b[0m\u001b[0msplit\u001b[0m\u001b[0;34m(\u001b[0m\u001b[0;34m)\u001b[0m\u001b[0;34m)\u001b[0m\u001b[0;34m)\u001b[0m\u001b[0;34m\u001b[0m\u001b[0;34m\u001b[0m\u001b[0m\n\u001b[1;32m      3\u001b[0m \u001b[0;34m\u001b[0m\u001b[0m\n\u001b[1;32m      4\u001b[0m \u001b[0mA\u001b[0m\u001b[0;34m.\u001b[0m\u001b[0msort\u001b[0m\u001b[0;34m(\u001b[0m\u001b[0;34m)\u001b[0m\u001b[0;34m\u001b[0m\u001b[0;34m\u001b[0m\u001b[0m\n\u001b[1;32m      5\u001b[0m \u001b[0msum\u001b[0m \u001b[0;34m=\u001b[0m \u001b[0;36m0\u001b[0m\u001b[0;34m\u001b[0m\u001b[0;34m\u001b[0m\u001b[0m\n",
      "\u001b[0;31mValueError\u001b[0m: not enough values to unpack (expected 2, got 0)"
     ]
    }
   ],
   "source": [
    "N,K = map(int, input().split())\n",
    "A = list(map(int, input().split()))\n",
    "\n",
    "A.sort()\n",
    "sum = 0\n",
    "for k in range(K):\n",
    "    sum += A[-k-1]\n",
    "print(sum)\n",
    "    "
   ]
  },
  {
   "cell_type": "code",
   "execution_count": null,
   "metadata": {},
   "outputs": [],
   "source": [
    "3 2\n",
    "[0,0,2]"
   ]
  },
  {
   "cell_type": "code",
   "execution_count": 179,
   "metadata": {},
   "outputs": [
    {
     "name": "stdout",
     "output_type": "stream",
     "text": [
      "0\n"
     ]
    }
   ],
   "source": [
    "N,K = map(int, input().split())\n",
    "A = list(map(int, input().split()))\n",
    "\n",
    "def solver(N,K,A):\n",
    "    A.sort()\n",
    "    min = float('inf')\n",
    "    for i in range(N-K+1):\n",
    "        if A[i+K-1] - A[i] < min:\n",
    "            min = A[i+K-1] - A[i]\n",
    "    return min\n",
    "print(solver(N,K,A))\n"
   ]
  },
  {
   "cell_type": "code",
   "execution_count": 183,
   "metadata": {},
   "outputs": [
    {
     "ename": "IndexError",
     "evalue": "tuple index out of range",
     "output_type": "error",
     "traceback": [
      "\u001b[0;31m---------------------------------------------------------------------------\u001b[0m",
      "\u001b[0;31mIndexError\u001b[0m                                Traceback (most recent call last)",
      "\u001b[0;32m/var/folders/yy/5vn5bk_d7kq_wrl03_9g4rl00000gn/T/ipykernel_3058/987308573.py\u001b[0m in \u001b[0;36m<module>\u001b[0;34m\u001b[0m\n\u001b[1;32m      4\u001b[0m     \u001b[0mAB\u001b[0m\u001b[0;34m.\u001b[0m\u001b[0mappend\u001b[0m\u001b[0;34m(\u001b[0m\u001b[0mtuple\u001b[0m\u001b[0;34m(\u001b[0m\u001b[0mmap\u001b[0m\u001b[0;34m(\u001b[0m\u001b[0mint\u001b[0m\u001b[0;34m,\u001b[0m \u001b[0minput\u001b[0m\u001b[0;34m(\u001b[0m\u001b[0;34m)\u001b[0m\u001b[0;34m.\u001b[0m\u001b[0msplit\u001b[0m\u001b[0;34m(\u001b[0m\u001b[0;34m)\u001b[0m\u001b[0;34m)\u001b[0m\u001b[0;34m)\u001b[0m\u001b[0;34m)\u001b[0m\u001b[0;34m\u001b[0m\u001b[0;34m\u001b[0m\u001b[0m\n\u001b[1;32m      5\u001b[0m \u001b[0;34m\u001b[0m\u001b[0m\n\u001b[0;32m----> 6\u001b[0;31m \u001b[0mAB\u001b[0m\u001b[0;34m.\u001b[0m\u001b[0msort\u001b[0m\u001b[0;34m(\u001b[0m\u001b[0mkey\u001b[0m\u001b[0;34m=\u001b[0m\u001b[0;32mlambda\u001b[0m \u001b[0ms\u001b[0m\u001b[0;34m:\u001b[0m \u001b[0ms\u001b[0m\u001b[0;34m[\u001b[0m\u001b[0;36m0\u001b[0m\u001b[0;34m]\u001b[0m\u001b[0;34m)\u001b[0m\u001b[0;34m\u001b[0m\u001b[0;34m\u001b[0m\u001b[0m\n\u001b[0m\u001b[1;32m      7\u001b[0m \u001b[0msum_k\u001b[0m \u001b[0;34m=\u001b[0m \u001b[0;36m0\u001b[0m\u001b[0;34m\u001b[0m\u001b[0;34m\u001b[0m\u001b[0m\n\u001b[1;32m      8\u001b[0m \u001b[0msum_y\u001b[0m \u001b[0;34m=\u001b[0m \u001b[0;36m0\u001b[0m\u001b[0;34m\u001b[0m\u001b[0;34m\u001b[0m\u001b[0m\n",
      "\u001b[0;32m/var/folders/yy/5vn5bk_d7kq_wrl03_9g4rl00000gn/T/ipykernel_3058/987308573.py\u001b[0m in \u001b[0;36m<lambda>\u001b[0;34m(s)\u001b[0m\n\u001b[1;32m      4\u001b[0m     \u001b[0mAB\u001b[0m\u001b[0;34m.\u001b[0m\u001b[0mappend\u001b[0m\u001b[0;34m(\u001b[0m\u001b[0mtuple\u001b[0m\u001b[0;34m(\u001b[0m\u001b[0mmap\u001b[0m\u001b[0;34m(\u001b[0m\u001b[0mint\u001b[0m\u001b[0;34m,\u001b[0m \u001b[0minput\u001b[0m\u001b[0;34m(\u001b[0m\u001b[0;34m)\u001b[0m\u001b[0;34m.\u001b[0m\u001b[0msplit\u001b[0m\u001b[0;34m(\u001b[0m\u001b[0;34m)\u001b[0m\u001b[0;34m)\u001b[0m\u001b[0;34m)\u001b[0m\u001b[0;34m)\u001b[0m\u001b[0;34m\u001b[0m\u001b[0;34m\u001b[0m\u001b[0m\n\u001b[1;32m      5\u001b[0m \u001b[0;34m\u001b[0m\u001b[0m\n\u001b[0;32m----> 6\u001b[0;31m \u001b[0mAB\u001b[0m\u001b[0;34m.\u001b[0m\u001b[0msort\u001b[0m\u001b[0;34m(\u001b[0m\u001b[0mkey\u001b[0m\u001b[0;34m=\u001b[0m\u001b[0;32mlambda\u001b[0m \u001b[0ms\u001b[0m\u001b[0;34m:\u001b[0m \u001b[0ms\u001b[0m\u001b[0;34m[\u001b[0m\u001b[0;36m0\u001b[0m\u001b[0;34m]\u001b[0m\u001b[0;34m)\u001b[0m\u001b[0;34m\u001b[0m\u001b[0;34m\u001b[0m\u001b[0m\n\u001b[0m\u001b[1;32m      7\u001b[0m \u001b[0msum_k\u001b[0m \u001b[0;34m=\u001b[0m \u001b[0;36m0\u001b[0m\u001b[0;34m\u001b[0m\u001b[0;34m\u001b[0m\u001b[0m\n\u001b[1;32m      8\u001b[0m \u001b[0msum_y\u001b[0m \u001b[0;34m=\u001b[0m \u001b[0;36m0\u001b[0m\u001b[0;34m\u001b[0m\u001b[0;34m\u001b[0m\u001b[0m\n",
      "\u001b[0;31mIndexError\u001b[0m: tuple index out of range"
     ]
    }
   ],
   "source": [
    "N,K = map(int, input().split())\n",
    "AB = []\n",
    "for _ in range(N):\n",
    "    AB.append(tuple(map(int, input().split())))\n",
    "\n",
    "AB.sort(key=lambda s: s[0])\n",
    "sum_k = 0\n",
    "sum_y = 0\n",
    "for i in range(N):\n",
    "    if sum_k + AB[i][1] > K:\n",
    "        sum_y += AB[i][0] * (K - sum_k)\n",
    "        break\n",
    "    sum_y += AB[i][0] * AB[i][1]\n",
    "    sum_k += AB[i][1]\n",
    "\n",
    "print(sum_y)"
   ]
  },
  {
   "cell_type": "code",
   "execution_count": null,
   "metadata": {},
   "outputs": [],
   "source": [
    "N = int(input())\n",
    "LR = []\n",
    "for _ in range(N):\n",
    "    LR.append(tuple(map(int, input().split())))\n",
    "\n",
    "flag = True\n",
    "\n",
    "LR.sort(key=lambda x: x[0])\n",
    "\n",
    "for i in range(0,N-1,1):\n",
    "    if LR[i][1] > LR[i+1][0]:\n",
    "        flag = False\n",
    "        break\n",
    "if flag:\n",
    "    print('Yes')\n",
    "else:\n",
    "    print('No')"
   ]
  },
  {
   "cell_type": "code",
   "execution_count": 184,
   "metadata": {},
   "outputs": [
    {
     "name": "stdout",
     "output_type": "stream",
     "text": [
      "[<map object at 0x113678af0>]\n"
     ]
    },
    {
     "ename": "TypeError",
     "evalue": "'map' object is not subscriptable",
     "output_type": "error",
     "traceback": [
      "\u001b[0;31m---------------------------------------------------------------------------\u001b[0m",
      "\u001b[0;31mTypeError\u001b[0m                                 Traceback (most recent call last)",
      "\u001b[0;32m/var/folders/yy/5vn5bk_d7kq_wrl03_9g4rl00000gn/T/ipykernel_3058/1404928271.py\u001b[0m in \u001b[0;36m<module>\u001b[0;34m\u001b[0m\n\u001b[1;32m      5\u001b[0m \u001b[0mprint\u001b[0m\u001b[0;34m(\u001b[0m\u001b[0mS\u001b[0m\u001b[0;34m)\u001b[0m\u001b[0;34m\u001b[0m\u001b[0;34m\u001b[0m\u001b[0m\n\u001b[1;32m      6\u001b[0m \u001b[0;34m\u001b[0m\u001b[0m\n\u001b[0;32m----> 7\u001b[0;31m \u001b[0mS\u001b[0m\u001b[0;34m.\u001b[0m\u001b[0msort\u001b[0m\u001b[0;34m(\u001b[0m\u001b[0mkey\u001b[0m\u001b[0;34m=\u001b[0m\u001b[0;32mlambda\u001b[0m \u001b[0mx\u001b[0m\u001b[0;34m:\u001b[0m\u001b[0;34m[\u001b[0m\u001b[0mx\u001b[0m\u001b[0;34m[\u001b[0m\u001b[0;36m1\u001b[0m\u001b[0;34m]\u001b[0m\u001b[0;34m,\u001b[0m\u001b[0mx\u001b[0m\u001b[0;34m[\u001b[0m\u001b[0;36m1\u001b[0m\u001b[0;34m]\u001b[0m\u001b[0;34m+\u001b[0m\u001b[0mx\u001b[0m\u001b[0;34m[\u001b[0m\u001b[0;36m2\u001b[0m\u001b[0;34m]\u001b[0m\u001b[0;34m]\u001b[0m\u001b[0;34m)\u001b[0m\u001b[0;34m\u001b[0m\u001b[0;34m\u001b[0m\u001b[0m\n\u001b[0m\u001b[1;32m      8\u001b[0m \u001b[0;34m\u001b[0m\u001b[0m\n\u001b[1;32m      9\u001b[0m \u001b[0;32mfor\u001b[0m \u001b[0mi\u001b[0m \u001b[0;32min\u001b[0m \u001b[0mrange\u001b[0m\u001b[0;34m(\u001b[0m\u001b[0mN\u001b[0m\u001b[0;34m)\u001b[0m\u001b[0;34m:\u001b[0m\u001b[0;34m\u001b[0m\u001b[0;34m\u001b[0m\u001b[0m\n",
      "\u001b[0;32m/var/folders/yy/5vn5bk_d7kq_wrl03_9g4rl00000gn/T/ipykernel_3058/1404928271.py\u001b[0m in \u001b[0;36m<lambda>\u001b[0;34m(x)\u001b[0m\n\u001b[1;32m      5\u001b[0m \u001b[0mprint\u001b[0m\u001b[0;34m(\u001b[0m\u001b[0mS\u001b[0m\u001b[0;34m)\u001b[0m\u001b[0;34m\u001b[0m\u001b[0;34m\u001b[0m\u001b[0m\n\u001b[1;32m      6\u001b[0m \u001b[0;34m\u001b[0m\u001b[0m\n\u001b[0;32m----> 7\u001b[0;31m \u001b[0mS\u001b[0m\u001b[0;34m.\u001b[0m\u001b[0msort\u001b[0m\u001b[0;34m(\u001b[0m\u001b[0mkey\u001b[0m\u001b[0;34m=\u001b[0m\u001b[0;32mlambda\u001b[0m \u001b[0mx\u001b[0m\u001b[0;34m:\u001b[0m\u001b[0;34m[\u001b[0m\u001b[0mx\u001b[0m\u001b[0;34m[\u001b[0m\u001b[0;36m1\u001b[0m\u001b[0;34m]\u001b[0m\u001b[0;34m,\u001b[0m\u001b[0mx\u001b[0m\u001b[0;34m[\u001b[0m\u001b[0;36m1\u001b[0m\u001b[0;34m]\u001b[0m\u001b[0;34m+\u001b[0m\u001b[0mx\u001b[0m\u001b[0;34m[\u001b[0m\u001b[0;36m2\u001b[0m\u001b[0;34m]\u001b[0m\u001b[0;34m]\u001b[0m\u001b[0;34m)\u001b[0m\u001b[0;34m\u001b[0m\u001b[0;34m\u001b[0m\u001b[0m\n\u001b[0m\u001b[1;32m      8\u001b[0m \u001b[0;34m\u001b[0m\u001b[0m\n\u001b[1;32m      9\u001b[0m \u001b[0;32mfor\u001b[0m \u001b[0mi\u001b[0m \u001b[0;32min\u001b[0m \u001b[0mrange\u001b[0m\u001b[0;34m(\u001b[0m\u001b[0mN\u001b[0m\u001b[0;34m)\u001b[0m\u001b[0;34m:\u001b[0m\u001b[0;34m\u001b[0m\u001b[0;34m\u001b[0m\u001b[0m\n",
      "\u001b[0;31mTypeError\u001b[0m: 'map' object is not subscriptable"
     ]
    }
   ],
   "source": [
    "N = int(input())\n",
    "S = []\n",
    "def func(s):\n",
    "    lst = s.split()\n",
    "    return (lst[0],int(lst[1]),int(lst[2]))\n",
    "S = [func(input()) for _ in range(N)]\n",
    "print(S)\n",
    "\n",
    "S.sort(key=lambda x: x[1]+x[2], reverse=False)\n",
    "S.sort(key=lambda x: x[1], reverse=True)\n",
    "\n",
    "for i in range(N):\n",
    "    print(f'{S[i][0]} {S[i][1]} {S[i][2]}')"
   ]
  },
  {
   "cell_type": "code",
   "execution_count": null,
   "metadata": {},
   "outputs": [],
   "source": [
    "N,X = map(int, input().split())\n",
    "S = []\n",
    "def func(n,s):\n",
    "    lst = s.split()\n",
    "    return (lst[0],int(lst[1]),n)\n",
    "S = [func(n,input()) for n in range(N)]\n",
    "\n",
    "S.sort(key=lambda x: x[1])\n",
    "for i in range(N):\n",
    "    if i == X:\n",
    "        print(f'{S[i-1][0]}')\n",
    "        print(f'{S[i+1][0]}')\n",
    "        break"
   ]
  },
  {
   "cell_type": "code",
   "execution_count": null,
   "metadata": {},
   "outputs": [],
   "source": [
    "N = int(input())\n",
    "def func(i,s):\n",
    "    return [i,int(s)]\n",
    "A = input().split()\n",
    "A = [func(i,A[i]) for i in range(N)]\n",
    "print(A)\n",
    "\n",
    "A.sort(key=lambda x: x[1], reverse=True)\n",
    "rank = 0\n",
    "for i in range(N):\n",
    "    if A[i] > A[i - 1]:\n",
    "        rank += 1\n",
    "    A[i].append(rank)\n",
    "    \n",
    "A.sort(key=lambda x: x[0])\n",
    "\n",
    "for i in range(N):\n",
    "    print(A[i][2])\n"
   ]
  },
  {
   "cell_type": "code",
   "execution_count": null,
   "metadata": {},
   "outputs": [],
   "source": [
    "N = int(input())\n",
    "A = list(map(int, input().split()))\n",
    "\n",
    "A = [lambda i: (i,A[i],0) for i in range(N)]\n",
    "print(A)\n",
    "\n",
    "for i in range(N):\n",
    "    A[A[i][1]] += 1\n",
    "\n",
    "A.sort(key=lambda x: x[2], reverse=True)\n",
    "\n",
    "for i in range(N):\n",
    "    print(A[0])"
   ]
  },
  {
   "cell_type": "code",
   "execution_count": null,
   "metadata": {},
   "outputs": [],
   "source": [
    "\n"
   ]
  },
  {
   "cell_type": "code",
   "execution_count": null,
   "metadata": {},
   "outputs": [],
   "source": []
  }
 ],
 "metadata": {
  "kernelspec": {
   "display_name": "Python 3.9.5 ('base')",
   "language": "python",
   "name": "python3"
  },
  "language_info": {
   "codemirror_mode": {
    "name": "ipython",
    "version": 3
   },
   "file_extension": ".py",
   "mimetype": "text/x-python",
   "name": "python",
   "nbconvert_exporter": "python",
   "pygments_lexer": "ipython3",
   "version": "3.9.5"
  },
  "orig_nbformat": 4,
  "vscode": {
   "interpreter": {
    "hash": "2b43b5d15b6f9ea835a53185cc6e992b19a76332aa15a30cf18385032cf68e62"
   }
  }
 },
 "nbformat": 4,
 "nbformat_minor": 2
}
