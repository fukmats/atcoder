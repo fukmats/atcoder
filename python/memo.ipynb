{
 "cells": [
  {
   "cell_type": "code",
   "execution_count": 3,
   "metadata": {},
   "outputs": [
    {
     "ename": "ValueError",
     "evalue": "not enough values to unpack (expected 2, got 0)",
     "output_type": "error",
     "traceback": [
      "\u001b[0;31m---------------------------------------------------------------------------\u001b[0m",
      "\u001b[0;31mValueError\u001b[0m                                Traceback (most recent call last)",
      "\u001b[0;32m/var/folders/yy/5vn5bk_d7kq_wrl03_9g4rl00000gn/T/ipykernel_98869/1724462235.py\u001b[0m in \u001b[0;36m<module>\u001b[0;34m\u001b[0m\n\u001b[1;32m     10\u001b[0m \u001b[0;34m\u001b[0m\u001b[0m\n\u001b[1;32m     11\u001b[0m \u001b[0;34m\u001b[0m\u001b[0m\n\u001b[0;32m---> 12\u001b[0;31m \u001b[0mmain\u001b[0m\u001b[0;34m(\u001b[0m\u001b[0;34m)\u001b[0m\u001b[0;34m\u001b[0m\u001b[0;34m\u001b[0m\u001b[0m\n\u001b[0m",
      "\u001b[0;32m/var/folders/yy/5vn5bk_d7kq_wrl03_9g4rl00000gn/T/ipykernel_98869/1724462235.py\u001b[0m in \u001b[0;36mmain\u001b[0;34m()\u001b[0m\n\u001b[1;32m      2\u001b[0m \u001b[0;34m\u001b[0m\u001b[0m\n\u001b[1;32m      3\u001b[0m \u001b[0;32mdef\u001b[0m \u001b[0mmain\u001b[0m\u001b[0;34m(\u001b[0m\u001b[0;34m)\u001b[0m\u001b[0;34m:\u001b[0m\u001b[0;34m\u001b[0m\u001b[0;34m\u001b[0m\u001b[0m\n\u001b[0;32m----> 4\u001b[0;31m     \u001b[0mN\u001b[0m\u001b[0;34m,\u001b[0m\u001b[0mL\u001b[0m \u001b[0;34m=\u001b[0m \u001b[0mmap\u001b[0m\u001b[0;34m(\u001b[0m\u001b[0mint\u001b[0m\u001b[0;34m,\u001b[0m \u001b[0minput\u001b[0m\u001b[0;34m(\u001b[0m\u001b[0;34m)\u001b[0m\u001b[0;34m.\u001b[0m\u001b[0msplit\u001b[0m\u001b[0;34m(\u001b[0m\u001b[0;34m)\u001b[0m\u001b[0;34m)\u001b[0m\u001b[0;34m\u001b[0m\u001b[0;34m\u001b[0m\u001b[0m\n\u001b[0m\u001b[1;32m      5\u001b[0m     \u001b[0mS\u001b[0m \u001b[0;34m=\u001b[0m \u001b[0;34m[\u001b[0m\u001b[0minput\u001b[0m\u001b[0;34m(\u001b[0m\u001b[0;34m)\u001b[0m \u001b[0;32mfor\u001b[0m \u001b[0m_\u001b[0m \u001b[0;32min\u001b[0m \u001b[0mrange\u001b[0m\u001b[0;34m(\u001b[0m\u001b[0mN\u001b[0m\u001b[0;34m)\u001b[0m\u001b[0;34m]\u001b[0m\u001b[0;34m\u001b[0m\u001b[0;34m\u001b[0m\u001b[0m\n\u001b[1;32m      6\u001b[0m \u001b[0;34m\u001b[0m\u001b[0m\n",
      "\u001b[0;31mValueError\u001b[0m: not enough values to unpack (expected 2, got 0)"
     ]
    }
   ],
   "source": [
    "#!/usr/bin/env python3\n",
    "\n",
    "def main():\n",
    "    N,L = map(int, input().split())\n",
    "    S = [input() for _ in range(N)]\n",
    "\n",
    "    S.sort()\n",
    "    print(join(S))\n",
    "    \n",
    "\n",
    "\n",
    "main()"
   ]
  },
  {
   "cell_type": "code",
   "execution_count": null,
   "metadata": {},
   "outputs": [],
   "source": []
  },
  {
   "cell_type": "code",
   "execution_count": 35,
   "metadata": {},
   "outputs": [
    {
     "name": "stdout",
     "output_type": "stream",
     "text": [
      "[0, 0, 0, 0, 0, 0]\n",
      "10\n",
      "[1, 0, 0, 0, 0, 0]\n",
      "9\n",
      "[1, 1, 0, 0, 0, 0]\n",
      "8\n",
      "[1, 1, 1, 0, 0, 0]\n",
      "7\n",
      "[1, 1, 1, 1, 0, 0]\n",
      "6\n",
      "[1, 1, 1, 1, 6, 0]\n",
      "0\n",
      "4\n"
     ]
    }
   ],
   "source": [
    "N,x = map(int, input().split())\n",
    "A = list(map(int, input().split()))\n",
    "\n",
    "A.sort()\n",
    "total = 0\n",
    "G = [0] * N\n",
    "\n",
    "for i in range(N):\n",
    "    # print(G)\n",
    "    # print(x)\n",
    "    if x < A[i]:\n",
    "        G[i] = x\n",
    "        x = 0\n",
    "    else:\n",
    "        G[i] = A[i] \n",
    "        x -= A[i]\n",
    "        total += 1\n",
    "# sum(A == G)\n",
    "print(total)\n",
    "\n",
    "\n"
   ]
  },
  {
   "cell_type": "code",
   "execution_count": 23,
   "metadata": {},
   "outputs": [
    {
     "ename": "SyntaxError",
     "evalue": "invalid syntax (1670420718.py, line 1)",
     "output_type": "error",
     "traceback": [
      "\u001b[0;36m  File \u001b[0;32m\"/var/folders/yy/5vn5bk_d7kq_wrl03_9g4rl00000gn/T/ipykernel_53433/1670420718.py\"\u001b[0;36m, line \u001b[0;32m1\u001b[0m\n\u001b[0;31m    1 10 1 1 8 16 10\u001b[0m\n\u001b[0m      ^\u001b[0m\n\u001b[0;31mSyntaxError\u001b[0m\u001b[0;31m:\u001b[0m invalid syntax\n"
     ]
    }
   ],
   "source": [
    "6 10\n",
    "1 10 1 1 8 1"
   ]
  },
  {
   "cell_type": "code",
   "execution_count": 30,
   "metadata": {},
   "outputs": [
    {
     "data": {
      "text/plain": [
       "[10, 20, 30]"
      ]
     },
     "execution_count": 30,
     "metadata": {},
     "output_type": "execute_result"
    }
   ],
   "source": [
    "for i in range\n"
   ]
  },
  {
   "cell_type": "code",
   "execution_count": 31,
   "metadata": {},
   "outputs": [
    {
     "data": {
      "text/plain": [
       "True"
      ]
     },
     "execution_count": 31,
     "metadata": {},
     "output_type": "execute_result"
    }
   ],
   "source": [
    "G == A"
   ]
  },
  {
   "cell_type": "code",
   "execution_count": 32,
   "metadata": {},
   "outputs": [
    {
     "data": {
      "text/plain": [
       "[10, 20, 30]"
      ]
     },
     "execution_count": 32,
     "metadata": {},
     "output_type": "execute_result"
    }
   ],
   "source": [
    "G"
   ]
  },
  {
   "cell_type": "code",
   "execution_count": 27,
   "metadata": {},
   "outputs": [
    {
     "data": {
      "text/plain": [
       "-50"
      ]
     },
     "execution_count": 27,
     "metadata": {},
     "output_type": "execute_result"
    }
   ],
   "source": [
    "x"
   ]
  },
  {
   "cell_type": "code",
   "execution_count": null,
   "metadata": {},
   "outputs": [],
   "source": [
    "N = int(input())\n",
    "A = list(map(int, input().split()))\n",
    "\n",
    "T = []\n"
   ]
  },
  {
   "cell_type": "code",
   "execution_count": null,
   "metadata": {},
   "outputs": [],
   "source": [
    "N = int(input())\n",
    "D = [int(input()) for _ in range(N)]\n",
    "D = list(set(D))\n",
    "\n",
    "print(len(D))\n"
   ]
  },
  {
   "cell_type": "code",
   "execution_count": 36,
   "metadata": {},
   "outputs": [
    {
     "name": "stdout",
     "output_type": "stream",
     "text": [
      "b\n"
     ]
    }
   ],
   "source": [
    "S = input()\n",
    "C = list('abcdefghijklmnopqrstuvwxyz')\n",
    "flag = False\n",
    "for c in C:\n",
    "    if not(c in S):\n",
    "        flag = True\n",
    "        break\n",
    "if flag:\n",
    "    print(c)\n",
    "else:\n",
    "    print('None')"
   ]
  },
  {
   "cell_type": "code",
   "execution_count": 49,
   "metadata": {},
   "outputs": [
    {
     "name": "stdout",
     "output_type": "stream",
     "text": [
      "5\n",
      "5\n"
     ]
    }
   ],
   "source": [
    "N,M = map(int, input().split())\n",
    "\n",
    "R = [list(map(int, input().split())) for _ in range(M)]\n",
    "A = {}\n",
    "\n",
    "for c in range(1,N+1):\n",
    "    A[c] = 0\n",
    "    for i in range(M):\n",
    "        if R[i][0] == c or R[i][1] == c:\n",
    "            A[c] += 1\n",
    "\n",
    "for k in A.keys():\n",
    "    print(f'{A[k]}')\n",
    "\n"
   ]
  },
  {
   "cell_type": "code",
   "execution_count": 50,
   "metadata": {},
   "outputs": [
    {
     "ename": "ValueError",
     "evalue": "not enough values to unpack (expected 4, got 0)",
     "output_type": "error",
     "traceback": [
      "\u001b[0;31m---------------------------------------------------------------------------\u001b[0m",
      "\u001b[0;31mValueError\u001b[0m                                Traceback (most recent call last)",
      "\u001b[0;32m/var/folders/yy/5vn5bk_d7kq_wrl03_9g4rl00000gn/T/ipykernel_53433/1136893061.py\u001b[0m in \u001b[0;36m<module>\u001b[0;34m\u001b[0m\n\u001b[1;32m     26\u001b[0m \u001b[0;34m\u001b[0m\u001b[0m\n\u001b[1;32m     27\u001b[0m \u001b[0;34m\u001b[0m\u001b[0m\n\u001b[0;32m---> 28\u001b[0;31m \u001b[0mmain\u001b[0m\u001b[0;34m(\u001b[0m\u001b[0;34m)\u001b[0m\u001b[0;34m\u001b[0m\u001b[0;34m\u001b[0m\u001b[0m\n\u001b[0m",
      "\u001b[0;32m/var/folders/yy/5vn5bk_d7kq_wrl03_9g4rl00000gn/T/ipykernel_53433/1136893061.py\u001b[0m in \u001b[0;36mmain\u001b[0;34m()\u001b[0m\n\u001b[1;32m      2\u001b[0m \u001b[0;34m\u001b[0m\u001b[0m\n\u001b[1;32m      3\u001b[0m \u001b[0;32mdef\u001b[0m \u001b[0mmain\u001b[0m\u001b[0;34m(\u001b[0m\u001b[0;34m)\u001b[0m\u001b[0;34m:\u001b[0m\u001b[0;34m\u001b[0m\u001b[0;34m\u001b[0m\u001b[0m\n\u001b[0;32m----> 4\u001b[0;31m     \u001b[0mN\u001b[0m\u001b[0;34m,\u001b[0m\u001b[0mX\u001b[0m\u001b[0;34m,\u001b[0m\u001b[0mY\u001b[0m\u001b[0;34m,\u001b[0m\u001b[0mZ\u001b[0m \u001b[0;34m=\u001b[0m \u001b[0mmap\u001b[0m\u001b[0;34m(\u001b[0m\u001b[0mint\u001b[0m\u001b[0;34m,\u001b[0m \u001b[0minput\u001b[0m\u001b[0;34m(\u001b[0m\u001b[0;34m)\u001b[0m\u001b[0;34m.\u001b[0m\u001b[0msplit\u001b[0m\u001b[0;34m(\u001b[0m\u001b[0;34m)\u001b[0m\u001b[0;34m)\u001b[0m\u001b[0;34m\u001b[0m\u001b[0;34m\u001b[0m\u001b[0m\n\u001b[0m\u001b[1;32m      5\u001b[0m     \u001b[0mA\u001b[0m \u001b[0;34m=\u001b[0m \u001b[0mlist\u001b[0m\u001b[0;34m(\u001b[0m\u001b[0mmap\u001b[0m\u001b[0;34m(\u001b[0m\u001b[0mint\u001b[0m\u001b[0;34m,\u001b[0m \u001b[0minput\u001b[0m\u001b[0;34m(\u001b[0m\u001b[0;34m)\u001b[0m\u001b[0;34m.\u001b[0m\u001b[0msplit\u001b[0m\u001b[0;34m(\u001b[0m\u001b[0;34m)\u001b[0m\u001b[0;34m)\u001b[0m\u001b[0;34m)\u001b[0m\u001b[0;34m\u001b[0m\u001b[0;34m\u001b[0m\u001b[0m\n\u001b[1;32m      6\u001b[0m     \u001b[0mB\u001b[0m \u001b[0;34m=\u001b[0m \u001b[0mlist\u001b[0m\u001b[0;34m(\u001b[0m\u001b[0mmap\u001b[0m\u001b[0;34m(\u001b[0m\u001b[0mint\u001b[0m\u001b[0;34m,\u001b[0m \u001b[0minput\u001b[0m\u001b[0;34m(\u001b[0m\u001b[0;34m)\u001b[0m\u001b[0;34m.\u001b[0m\u001b[0msplit\u001b[0m\u001b[0;34m(\u001b[0m\u001b[0;34m)\u001b[0m\u001b[0;34m)\u001b[0m\u001b[0;34m)\u001b[0m\u001b[0;34m\u001b[0m\u001b[0;34m\u001b[0m\u001b[0m\n",
      "\u001b[0;31mValueError\u001b[0m: not enough values to unpack (expected 4, got 0)"
     ]
    }
   ],
   "source": [
    "#!/usr/bin/env python3\n",
    "\n",
    "def main():\n",
    "    N,X,Y,Z = map(int, input().split())\n",
    "    A = list(map(int, input().split()))\n",
    "    B = list(map(int, input().split()))\n",
    "    C = []\n",
    "    for i in range(N):\n",
    "        C.append([i,A[i],B[i]], A[i]+B[i])\n",
    "\n",
    "    C.sort(key=lambda x: x[1], reverse=True) \n",
    "    ans = C[:X]\n",
    "    C = C[X:]\n",
    "    C.sort(key=lambda x: x[2], reverse=True)\n",
    "    ans += C[:Y]\n",
    "    C = C[Y:]\n",
    "    C.sort(key=lambda x: x[3], reverse=True)\n",
    "    ans += C[:Z]\n",
    "\n",
    "\n",
    "    print(X+Y+Z,len(ans))\n",
    "\n",
    "\n",
    "\n",
    "    \n",
    "\n",
    "\n",
    "main()\n"
   ]
  },
  {
   "cell_type": "code",
   "execution_count": null,
   "metadata": {},
   "outputs": [],
   "source": [
    "#!/usr/bin/env python3\n",
    "import numpy as np\n",
    "\n",
    "def main():\n",
    "    N,X,Y = map(int, input().split())\n",
    "\n",
    "\n",
    "    dp = [0] * N\n",
    "    for i in range(N):\n",
    "        dp[i] = dp[i-1]\n",
    "        dp[i] = max(dp[i-1]+,dp[i])\n",
    "        dp[i] = max(,dp[i])\n",
    "\n",
    "\n",
    "main()\n"
   ]
  },
  {
   "cell_type": "code",
   "execution_count": 76,
   "metadata": {},
   "outputs": [
    {
     "name": "stdout",
     "output_type": "stream",
     "text": [
      "1\n"
     ]
    }
   ],
   "source": [
    "#!/usr/bin/env python3\n",
    "import numpy as np\n",
    "\n",
    "\n",
    "\n",
    "\n",
    "def main():\n",
    "    N,X,Y = map(int, input().split())\n",
    "    def red(R,B,n):\n",
    "        R[n-1],B[n],R[n] = R[n-1]+R[n],B[n]+X*R[n],0\n",
    "        # print(R,B)\n",
    "        return R,B\n",
    "    \n",
    "    def blue(R,B,n):\n",
    "        R[n-1],B[n-1],B[n] = R[n-1]+B[n],B[n-1]+Y*B[n],0\n",
    "        # print(R,B)\n",
    "        return R,B\n",
    "\n",
    "    R = {}\n",
    "    B = {}\n",
    "    for i in range(1,N+1):\n",
    "        R[i] = 0\n",
    "        B[i] = 0\n",
    "\n",
    "    R[N] = 1\n",
    "    for i in reversed(range(2,N+1)):\n",
    "        R,B = red(R,B,i)\n",
    "        R,B = blue(R,B,i)\n",
    "        # print(R,B)\n",
    "        # break\n",
    "    print(B[1])\n",
    "\n",
    "main()\n"
   ]
  },
  {
   "cell_type": "code",
   "execution_count": null,
   "metadata": {},
   "outputs": [],
   "source": [
    "W,H,N = map(int, input().split())\n",
    "A = [list(map(int, input().split())) for _ in range(N)]\n",
    "print(A)"
   ]
  },
  {
   "cell_type": "code",
   "execution_count": 77,
   "metadata": {},
   "outputs": [
    {
     "ename": "KeyboardInterrupt",
     "evalue": "Interrupted by user",
     "output_type": "error",
     "traceback": [
      "\u001b[0;31m---------------------------------------------------------------------------\u001b[0m",
      "\u001b[0;31mKeyboardInterrupt\u001b[0m                         Traceback (most recent call last)",
      "\u001b[0;32m/var/folders/yy/5vn5bk_d7kq_wrl03_9g4rl00000gn/T/ipykernel_53433/3056059567.py\u001b[0m in \u001b[0;36m<module>\u001b[0;34m\u001b[0m\n\u001b[0;32m----> 1\u001b[0;31m \u001b[0mN\u001b[0m \u001b[0;34m=\u001b[0m \u001b[0mint\u001b[0m\u001b[0;34m(\u001b[0m\u001b[0minput\u001b[0m\u001b[0;34m(\u001b[0m\u001b[0;34m)\u001b[0m\u001b[0;34m)\u001b[0m\u001b[0;34m\u001b[0m\u001b[0;34m\u001b[0m\u001b[0m\n\u001b[0m\u001b[1;32m      2\u001b[0m \u001b[0mS\u001b[0m \u001b[0;34m=\u001b[0m \u001b[0;34m[\u001b[0m\u001b[0minput\u001b[0m\u001b[0;34m(\u001b[0m\u001b[0;34m)\u001b[0m \u001b[0;32mfor\u001b[0m \u001b[0m_\u001b[0m \u001b[0;32min\u001b[0m \u001b[0mrange\u001b[0m\u001b[0;34m(\u001b[0m\u001b[0mN\u001b[0m\u001b[0;34m)\u001b[0m\u001b[0;34m]\u001b[0m\u001b[0;34m\u001b[0m\u001b[0;34m\u001b[0m\u001b[0m\n\u001b[1;32m      3\u001b[0m \u001b[0mM\u001b[0m \u001b[0;34m=\u001b[0m \u001b[0mint\u001b[0m\u001b[0;34m(\u001b[0m\u001b[0minput\u001b[0m\u001b[0;34m(\u001b[0m\u001b[0;34m)\u001b[0m\u001b[0;34m)\u001b[0m\u001b[0;34m\u001b[0m\u001b[0;34m\u001b[0m\u001b[0m\n\u001b[1;32m      4\u001b[0m \u001b[0mT\u001b[0m \u001b[0;34m=\u001b[0m \u001b[0;34m[\u001b[0m\u001b[0minput\u001b[0m\u001b[0;34m(\u001b[0m\u001b[0;34m)\u001b[0m \u001b[0;32mfor\u001b[0m \u001b[0m_\u001b[0m \u001b[0;32min\u001b[0m \u001b[0mrange\u001b[0m\u001b[0;34m(\u001b[0m\u001b[0mM\u001b[0m\u001b[0;34m)\u001b[0m\u001b[0;34m]\u001b[0m\u001b[0;34m\u001b[0m\u001b[0;34m\u001b[0m\u001b[0m\n\u001b[1;32m      5\u001b[0m \u001b[0;34m\u001b[0m\u001b[0m\n",
      "\u001b[0;32m~/miniforge3/lib/python3.9/site-packages/ipykernel/kernelbase.py\u001b[0m in \u001b[0;36mraw_input\u001b[0;34m(self, prompt)\u001b[0m\n\u001b[1;32m   1004\u001b[0m                 \u001b[0;34m\"raw_input was called, but this frontend does not support input requests.\"\u001b[0m\u001b[0;34m\u001b[0m\u001b[0;34m\u001b[0m\u001b[0m\n\u001b[1;32m   1005\u001b[0m             )\n\u001b[0;32m-> 1006\u001b[0;31m         return self._input_request(\n\u001b[0m\u001b[1;32m   1007\u001b[0m             \u001b[0mstr\u001b[0m\u001b[0;34m(\u001b[0m\u001b[0mprompt\u001b[0m\u001b[0;34m)\u001b[0m\u001b[0;34m,\u001b[0m\u001b[0;34m\u001b[0m\u001b[0;34m\u001b[0m\u001b[0m\n\u001b[1;32m   1008\u001b[0m             \u001b[0mself\u001b[0m\u001b[0;34m.\u001b[0m\u001b[0m_parent_ident\u001b[0m\u001b[0;34m[\u001b[0m\u001b[0;34m\"shell\"\u001b[0m\u001b[0;34m]\u001b[0m\u001b[0;34m,\u001b[0m\u001b[0;34m\u001b[0m\u001b[0;34m\u001b[0m\u001b[0m\n",
      "\u001b[0;32m~/miniforge3/lib/python3.9/site-packages/ipykernel/kernelbase.py\u001b[0m in \u001b[0;36m_input_request\u001b[0;34m(self, prompt, ident, parent, password)\u001b[0m\n\u001b[1;32m   1049\u001b[0m             \u001b[0;32mexcept\u001b[0m \u001b[0mKeyboardInterrupt\u001b[0m\u001b[0;34m:\u001b[0m\u001b[0;34m\u001b[0m\u001b[0;34m\u001b[0m\u001b[0m\n\u001b[1;32m   1050\u001b[0m                 \u001b[0;31m# re-raise KeyboardInterrupt, to truncate traceback\u001b[0m\u001b[0;34m\u001b[0m\u001b[0;34m\u001b[0m\u001b[0;34m\u001b[0m\u001b[0m\n\u001b[0;32m-> 1051\u001b[0;31m                 \u001b[0;32mraise\u001b[0m \u001b[0mKeyboardInterrupt\u001b[0m\u001b[0;34m(\u001b[0m\u001b[0;34m\"Interrupted by user\"\u001b[0m\u001b[0;34m)\u001b[0m \u001b[0;32mfrom\u001b[0m \u001b[0;32mNone\u001b[0m\u001b[0;34m\u001b[0m\u001b[0;34m\u001b[0m\u001b[0m\n\u001b[0m\u001b[1;32m   1052\u001b[0m             \u001b[0;32mexcept\u001b[0m \u001b[0mException\u001b[0m\u001b[0;34m:\u001b[0m\u001b[0;34m\u001b[0m\u001b[0;34m\u001b[0m\u001b[0m\n\u001b[1;32m   1053\u001b[0m                 \u001b[0mself\u001b[0m\u001b[0;34m.\u001b[0m\u001b[0mlog\u001b[0m\u001b[0;34m.\u001b[0m\u001b[0mwarning\u001b[0m\u001b[0;34m(\u001b[0m\u001b[0;34m\"Invalid Message:\"\u001b[0m\u001b[0;34m,\u001b[0m \u001b[0mexc_info\u001b[0m\u001b[0;34m=\u001b[0m\u001b[0;32mTrue\u001b[0m\u001b[0;34m)\u001b[0m\u001b[0;34m\u001b[0m\u001b[0;34m\u001b[0m\u001b[0m\n",
      "\u001b[0;31mKeyboardInterrupt\u001b[0m: Interrupted by user"
     ]
    }
   ],
   "source": [
    "N = int(input())\n",
    "S = [input() for _ in range(N)]\n",
    "M = int(input())\n",
    "T = [input() for _ in range(M)]\n",
    "\n",
    "P = {}\n",
    "for i in range(N):\n",
    "    for j in range(N):\n",
    "        if S[i] == S[j]:\n",
    "            P[S[i]] += 1\n",
    "for i in range(M):\n",
    "    for j in range(M):\n",
    "        if T[i] == T[j]:\n",
    "            P[S[i]] -= 1\n",
    "print(max(P.values()))"
   ]
  },
  {
   "cell_type": "code",
   "execution_count": 94,
   "metadata": {},
   "outputs": [
    {
     "name": "stdout",
     "output_type": "stream",
     "text": [
      "1\n"
     ]
    }
   ],
   "source": [
    "N,K = map(int, input().split())\n",
    "A = list(map(int, input().split()))\n",
    "\n",
    "ans = 0\n",
    "S = set(A)\n",
    "if len(S) <= K:\n",
    "    ans = 0\n",
    "else:\n",
    "    D = {}\n",
    "    for s in S:\n",
    "        D[s] = 0\n",
    "    for i in range(N):\n",
    "        D[A[i]] += 1\n",
    "\n",
    "    B = []\n",
    "    for k in D.keys():\n",
    "        B.append([k,D[k]])\n",
    "    B.sort(key=lambda x: x[1])\n",
    "\n",
    "    ans = sum(list(map(lambda x: x[1],B[:len(B)-K])))\n",
    "print(ans)\n",
    "\n",
    "\n",
    "\n",
    "\n",
    "\n",
    "\n",
    "\n",
    "\n"
   ]
  },
  {
   "cell_type": "code",
   "execution_count": 95,
   "metadata": {},
   "outputs": [
    {
     "name": "stdout",
     "output_type": "stream",
     "text": [
      "5 0 4\n"
     ]
    }
   ],
   "source": [
    "#!/usr/bin/env python3\n",
    "\n",
    "def main():\n",
    "    N, Y = map(int, input().split())\n",
    "\n",
    "    ans = [-1,-1,-1]\n",
    "    flag = False\n",
    "    t = 0\n",
    "\n",
    "\n",
    "    for i in range(0,N+1):\n",
    "        if i * 10000 > Y:\n",
    "            break\n",
    "        for j in range(0,N-i+1):  \n",
    "            t = 10000 * i + 5000 * j + 1000 * (N-i-j)\n",
    "            if t == Y:\n",
    "                flag = True\n",
    "                ans = [i, j, N-i-j]\n",
    "                break\n",
    "        if flag:\n",
    "            break\n",
    "    \n",
    "\n",
    "    print(f'{ans[0]} {ans[1]} {ans[2]}') \n",
    "\n",
    "main()\n"
   ]
  },
  {
   "cell_type": "code",
   "execution_count": 8,
   "metadata": {},
   "outputs": [
    {
     "data": {
      "text/plain": [
       "array([0, 1, 2])"
      ]
     },
     "execution_count": 8,
     "metadata": {},
     "output_type": "execute_result"
    }
   ],
   "source": [
    "np.array([\n",
    "    [0,1,2],\n",
    "    [3,4,5],\n",
    "    [6,7,8]\n",
    "])[0]"
   ]
  },
  {
   "cell_type": "code",
   "execution_count": 99,
   "metadata": {},
   "outputs": [
    {
     "name": "stdout",
     "output_type": "stream",
     "text": [
      "No\n"
     ]
    }
   ],
   "source": [
    "#!/usr/bin/env python3\n",
    "import numpy as np\n",
    "\n",
    "def main():\n",
    "    \n",
    "    C = np.array([list(map(int, input().split())) for _ in range(3)])\n",
    "    D = np.zeros_like(C)\n",
    "    \n",
    "\n",
    "\n",
    "    for a1 in range(c[0].min()+1):\n",
    "        for a2 in range(c[1].min()+1):\n",
    "            for a3 in range(c[2].min()+1):\n",
    "                \n",
    "                b1 = C[0][0] - a1\n",
    "                b2 = C[1][1] - a2\n",
    "                b3 = C[2][2] - a3\n",
    "                a = [a1,a2,a3]\n",
    "                b = [b1,b2,b3]\n",
    "\n",
    "                flag = True\n",
    "\n",
    "                for i in range(3):\n",
    "                    for j in range(3):\n",
    "                        if C[i][j] != a[i] + b[j]:\n",
    "                            flag = False\n",
    "                            break\n",
    "                    if not flag:\n",
    "                        break\n",
    "                if flag:\n",
    "                    break\n",
    "            if flag:\n",
    "                break  \n",
    "        if flag:\n",
    "            break\n",
    "    if flag:\n",
    "        print('Yes')\n",
    "    else:\n",
    "        print('No')\n",
    "\n",
    "\n",
    "main()\n"
   ]
  },
  {
   "cell_type": "code",
   "execution_count": 2,
   "metadata": {},
   "outputs": [
    {
     "ename": "NameError",
     "evalue": "name 'C' is not defined",
     "output_type": "error",
     "traceback": [
      "\u001b[0;31m---------------------------------------------------------------------------\u001b[0m",
      "\u001b[0;31mNameError\u001b[0m                                 Traceback (most recent call last)",
      "\u001b[0;32m/var/folders/yy/5vn5bk_d7kq_wrl03_9g4rl00000gn/T/ipykernel_72339/463182946.py\u001b[0m in \u001b[0;36m<module>\u001b[0;34m\u001b[0m\n\u001b[0;32m----> 1\u001b[0;31m \u001b[0mC\u001b[0m\u001b[0;34m\u001b[0m\u001b[0;34m\u001b[0m\u001b[0m\n\u001b[0m",
      "\u001b[0;31mNameError\u001b[0m: name 'C' is not defined"
     ]
    }
   ],
   "source": [
    "min()"
   ]
  },
  {
   "cell_type": "code",
   "execution_count": 6,
   "metadata": {},
   "outputs": [
    {
     "data": {
      "text/plain": [
       "0.0"
      ]
     },
     "execution_count": 6,
     "metadata": {},
     "output_type": "execute_result"
    }
   ],
   "source": [
    "A,B,C,X,Y = map(int, input().split())\n",
    "\n",
    "D = {'a':0,'b':0,'c':0}\n",
    "D = [0,0,0]\n",
    "\n",
    "tmin = float('inf')\n",
    "for i in range(X):\n",
    "    for j in range(Y):\n",
    "        a = i, b = j, c = max(2*(X-i),2*(Y-j))\n",
    "        t = a * A + b * B + c * C\n",
    "        tmin = min(tmin,t)\n"
   ]
  },
  {
   "cell_type": "code",
   "execution_count": 10,
   "metadata": {},
   "outputs": [
    {
     "name": "stdout",
     "output_type": "stream",
     "text": [
      "0 -1 6\n",
      "7600\n"
     ]
    }
   ],
   "source": [
    "#!/usr/bin/env python3\n",
    "import math\n",
    "\n",
    "def main():\n",
    "    A,B,C,X,Y = map(int, input().split())\n",
    "\n",
    "    \n",
    "    tmin = float('inf')\n",
    "    \n",
    "    # for i in range(X+1):\n",
    "    #     for j in range(Y+1):\n",
    "    #         a = i\n",
    "    #         b = j\n",
    "    #         c = max(2*(X-i),2*(Y-j))\n",
    "    #         t = a * A + b * B + c * C\n",
    "    #         tmin = min(tmin,t)\n",
    "    # print(tmin)\n",
    "\n",
    "    for c in range(2*max(X,Y)+1):\n",
    "        a = X - math.floor(c/2)\n",
    "        b = Y - math.floor(c/2)\n",
    "        if a < 0:\n",
    "            a = 0\n",
    "        if b < 0:\n",
    "            b = 0\n",
    "        t = a * A + b * B + c * C\n",
    "        tmin = min(tmin,t)\n",
    "        if t == 7600:\n",
    "            print(a,b,c)\n",
    "    print(tmin)\n",
    "\n",
    "\n",
    "main()\n"
   ]
  },
  {
   "cell_type": "code",
   "execution_count": 32,
   "metadata": {},
   "outputs": [
    {
     "name": "stdout",
     "output_type": "stream",
     "text": [
      "6\n"
     ]
    }
   ],
   "source": [
    "#!/usr/bin/env python3\n",
    "import math\n",
    "\n",
    "def main():\n",
    "    \n",
    "    N = int(input())\n",
    "\n",
    "    def func(A,B):\n",
    "        return max(math.ceil(math.log10(A+1)), math.ceil(math.log10(B+1)))\n",
    "    vmin = float('inf')\n",
    "    if N == 1:\n",
    "        print(1)\n",
    "    else:\n",
    "        for i in range(1,math.ceil(math.sqrt(N))):\n",
    "            if N % i != 0:\n",
    "                continue\n",
    "            vmin = min(vmin,func(i, N/i))\n",
    "\n",
    "        print(vmin)\n",
    "\n",
    "\n",
    "main()\n"
   ]
  },
  {
   "cell_type": "code",
   "execution_count": null,
   "metadata": {},
   "outputs": [],
   "source": [
    "import "
   ]
  },
  {
   "cell_type": "code",
   "execution_count": 50,
   "metadata": {},
   "outputs": [
    {
     "name": "stdout",
     "output_type": "stream",
     "text": [
      "100 100 1\n"
     ]
    }
   ],
   "source": [
    "#!/usr/bin/env python3\n",
    "import numpy as np\n",
    "\n",
    "def main():\n",
    "    N = int(input())\n",
    "    A = [list(map(int, input().split())) for _ in range(N)]\n",
    "\n",
    "    hmin = np.array(A)[:,2].max()\n",
    "    for h in range(hmin, 10**9+1):\n",
    "        for cx in range(101):\n",
    "            for cy in range(101):\n",
    "            \n",
    "                # print(cx,cy,h)\n",
    "                flag = True\n",
    "                for i in range(N):\n",
    "                    if max(h - abs(A[i][0]-cx) - abs(A[i][1]-cy),0) != A[i][2]:\n",
    "                        flag = False\n",
    "                        break\n",
    "                # flag = True\n",
    "                if flag:\n",
    "                    break\n",
    "            if flag:\n",
    "                break\n",
    "        if flag:\n",
    "            break\n",
    "    if flag:\n",
    "        print(f'{cx} {cy} {h}')\n",
    "\n",
    "\n",
    "main()\n"
   ]
  },
  {
   "cell_type": "code",
   "execution_count": null,
   "metadata": {},
   "outputs": [],
   "source": [
    "#!/usr/bin/env python3\n",
    "import numpy as np\n",
    "\n",
    "def main():\n",
    "    N = int(input())\n",
    "    A = [list(map(int, input().split())) for _ in range(N)]\n",
    "    for i in range(N):\n",
    "        if A[i][2] > 0:\n",
    "            H = A[i][2] - abs(A[i][0]-cx) - abs(A[i][1]-cy)\n",
    "            break\n",
    "            \n",
    "    for cx in range(101):\n",
    "        for cy in range(101):\n",
    "            flag = True\n",
    "            for i in range(N):\n",
    "                if max(H - abs(A[i][0]-cx) - abs(A[i][1]-cy),0) != A[i][2]:\n",
    "                    flag = False\n",
    "                    break\n",
    "            if flag:\n",
    "                break\n",
    "        if flag:\n",
    "            break\n",
    "    if flag:\n",
    "        print(f'{cx} {cy} {h}')\n",
    "\n",
    "\n",
    "main()\n"
   ]
  },
  {
   "cell_type": "code",
   "execution_count": 54,
   "metadata": {},
   "outputs": [],
   "source": [
    "#!/usr/bin/env python3\n",
    "import numpy as np\n",
    "\n",
    "def test(N,A):\n",
    "    # N = int(input())\n",
    "    # A = [list(map(int, input().split())) for _ in range(N)]\n",
    "\n",
    "    # hmin = np.array(A)[:,2].max()\n",
    "    for h in range(0, 11):\n",
    "        for cx in range(11):\n",
    "            for cy in range(11):\n",
    "                flag = True\n",
    "                for i in range(N):\n",
    "                    if max(h - abs(A[i][0]-cx) - abs(A[i][1]-cy),0) != A[i][2]:\n",
    "                        flag = False\n",
    "                        break\n",
    "                # flag = True\n",
    "                if flag:\n",
    "                    break\n",
    "            if flag:\n",
    "                break\n",
    "        if flag:\n",
    "            break\n",
    "    if flag:\n",
    "        print(f'{cx} {cy} {h}')\n",
    "\n",
    "\n"
   ]
  },
  {
   "cell_type": "code",
   "execution_count": null,
   "metadata": {},
   "outputs": [],
   "source": []
  },
  {
   "cell_type": "code",
   "execution_count": null,
   "metadata": {},
   "outputs": [],
   "source": []
  },
  {
   "cell_type": "code",
   "execution_count": null,
   "metadata": {},
   "outputs": [],
   "source": []
  },
  {
   "cell_type": "code",
   "execution_count": null,
   "metadata": {},
   "outputs": [],
   "source": []
  },
  {
   "cell_type": "code",
   "execution_count": null,
   "metadata": {},
   "outputs": [],
   "source": []
  }
 ],
 "metadata": {
  "kernelspec": {
   "display_name": "Python 3.9.5 ('base')",
   "language": "python",
   "name": "python3"
  },
  "language_info": {
   "codemirror_mode": {
    "name": "ipython",
    "version": 3
   },
   "file_extension": ".py",
   "mimetype": "text/x-python",
   "name": "python",
   "nbconvert_exporter": "python",
   "pygments_lexer": "ipython3",
   "version": "3.9.5"
  },
  "orig_nbformat": 4,
  "vscode": {
   "interpreter": {
    "hash": "2b43b5d15b6f9ea835a53185cc6e992b19a76332aa15a30cf18385032cf68e62"
   }
  }
 },
 "nbformat": 4,
 "nbformat_minor": 2
}
